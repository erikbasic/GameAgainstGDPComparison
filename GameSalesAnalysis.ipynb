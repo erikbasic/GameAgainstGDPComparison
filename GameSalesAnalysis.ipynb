{
  "nbformat": 4,
  "nbformat_minor": 0,
  "metadata": {
    "colab": {
      "provenance": []
    },
    "kernelspec": {
      "name": "python3",
      "display_name": "Python 3"
    },
    "language_info": {
      "name": "python"
    }
  },
  "cells": [
    {
      "cell_type": "markdown",
      "source": [
        "#Comparison of video game sales and GDP per resident in the world"
      ],
      "metadata": {
        "id": "yVQgNIroEAlB"
      }
    },
    {
      "cell_type": "markdown",
      "source": [
        "The topic of this paper is the impact of GDP on video game sales in certain parts of the world. Main\n",
        "the idea is to monitor GDP growth or decline depending on the year and place of sale, and to conclude whether and how much it affects\n",
        "GDP affects game sales. The main sales areas that will be studied are the North\n",
        "America and Japan (there is also data for Europe, but Europe has too many countries to\n",
        "could conclude something). The assumption is that GDP affects sales, which I will try to prove.\n",
        "I will also conclude which are the most popular video game genres, platforms and publishers."
      ],
      "metadata": {
        "id": "dRvlVIgqEHNn"
      }
    },
    {
      "cell_type": "markdown",
      "source": [
        "1. Collection of data sources"
      ],
      "metadata": {
        "id": "JIlYazdCFtLQ"
      }
    },
    {
      "cell_type": "markdown",
      "source": [
        "The data was collected through the following sources:\n",
        "\n",
        "Video Game Sales: https://www.kaggle.com/datasets/gregorut/videogamesales?resource=download\n",
        "\n",
        "GDP by selected country: https://data.oecd.org/gdp/gross-domestic-product-gdp.htm#indicator-chart\n",
        "\n",
        "The first dataset was downloaded from the Kaggle site. There are exactly 16,598 games in this dataset.\n",
        "The following information can be found for each game:\n",
        "* Rank – the place of the game by the total number of sales. First place is the best-selling game\n",
        "looking at total sales worldwide.\n",
        "* Name – name of the game\n",
        "* Platform – the game release platform\n",
        "* Year – the year the game was released\n",
        "* Genre – genre of the game\n",
        "* Publisher – publishing house of the game\n",
        "* NA_Sales – sales in North America (in millions)\n",
        "* EU_Sales – sales in Europe (in millions)\n",
        "* JP_Sales – sales in Japan (in millions)\n",
        "* Other_sales – sales in other parts of the world (in millions)\n",
        "* Global_sales – total sales in the world\n",
        "\n",
        "Second dataset is available at data.oecd.org. On this page it is possible to select a range\n",
        "the year in which I want to take over GDP. The oldest game from the first data set is from 1980, and the newest from\n",
        "2010 (there are also more recent ones, but in too few numbers, so these games will not be taken into account). Cause of\n",
        "for this reason I will choose the range of years from 1980 to 2010\n",
        "The essential data from this set for analysis are:\n",
        "* Location – abbreviation of the country\n",
        "* Indicator – indication that it is GDP (\"gross domestic product\" in English, GDP)\n",
        "* Measure – dollar per capita label\n",
        "* Time - year\n",
        "* Value – GDP value"
      ],
      "metadata": {
        "id": "UIyQH7ceFwIf"
      }
    },
    {
      "cell_type": "markdown",
      "source": [
        "## 2. Cleaning data"
      ],
      "metadata": {
        "id": "g5GAYFVLGXT5"
      }
    },
    {
      "cell_type": "code",
      "source": [
        "from google.colab import drive\n",
        "drive.mount('/content/drive')"
      ],
      "metadata": {
        "colab": {
          "base_uri": "https://localhost:8080/"
        },
        "id": "H1VJL9xiLzrt",
        "outputId": "bb35bc6b-a6d2-4559-fd03-c8411b336946"
      },
      "execution_count": 167,
      "outputs": [
        {
          "output_type": "stream",
          "name": "stdout",
          "text": [
            "Drive already mounted at /content/drive; to attempt to forcibly remount, call drive.mount(\"/content/drive\", force_remount=True).\n"
          ]
        }
      ]
    },
    {
      "cell_type": "code",
      "execution_count": 168,
      "metadata": {
        "id": "VDvbUhSS5rJW"
      },
      "outputs": [],
      "source": [
        "# importing libraries\n",
        "import pandas as pd\n",
        "import matplotlib.pyplot as plt"
      ]
    },
    {
      "cell_type": "code",
      "source": [
        "# reading first dataframe - vgsales.csv\n",
        "df1 = pd.read_csv(\"/content/drive/MyDrive/vgsales.csv\")"
      ],
      "metadata": {
        "id": "QgFPyXP56P5u"
      },
      "execution_count": 169,
      "outputs": []
    },
    {
      "cell_type": "code",
      "source": [
        "# reading second dataframe - DP_LIVE_01062022142735936.csv\n",
        "df2 = pd.read_csv(\"/content/drive/MyDrive/DP_LIVE_01062022142735936.csv\")"
      ],
      "metadata": {
        "id": "SCW7-ldT6Rtl"
      },
      "execution_count": 170,
      "outputs": []
    },
    {
      "cell_type": "markdown",
      "source": [
        "## Cleaning first dataframe"
      ],
      "metadata": {
        "id": "TbvbsMHF66PV"
      }
    },
    {
      "cell_type": "code",
      "source": [
        " # Checking how many games have values that are null\n",
        " df1.isnull().sum()"
      ],
      "metadata": {
        "colab": {
          "base_uri": "https://localhost:8080/"
        },
        "id": "BHZpmDu763L9",
        "outputId": "b1d60e91-d541-45f1-f9fe-1ea4dca0205d"
      },
      "execution_count": 171,
      "outputs": [
        {
          "output_type": "execute_result",
          "data": {
            "text/plain": [
              "Rank              0\n",
              "Name              0\n",
              "Platform          0\n",
              "Year            271\n",
              "Genre             0\n",
              "Publisher        58\n",
              "NA_Sales          0\n",
              "EU_Sales          0\n",
              "JP_Sales          0\n",
              "Other_Sales       0\n",
              "Global_Sales      0\n",
              "dtype: int64"
            ]
          },
          "metadata": {},
          "execution_count": 171
        }
      ]
    },
    {
      "cell_type": "markdown",
      "source": [
        "271 video games don't have a year record, so I'll discard those records (actually I'll take all values ​​where there are years)"
      ],
      "metadata": {
        "id": "g3wAkCBT7BEF"
      }
    },
    {
      "cell_type": "code",
      "source": [
        "# Creating new dataframe\n",
        "df11 = df1[df1['Year'].notna()]"
      ],
      "metadata": {
        "id": "ElqNb82i7JFH"
      },
      "execution_count": 172,
      "outputs": []
    },
    {
      "cell_type": "code",
      "source": [
        "# Checking null values again\n",
        "df11.isnull().sum()"
      ],
      "metadata": {
        "colab": {
          "base_uri": "https://localhost:8080/"
        },
        "id": "11qhCLFq72aV",
        "outputId": "07ce351d-74ae-4f80-8619-7062fe533efc"
      },
      "execution_count": 173,
      "outputs": [
        {
          "output_type": "execute_result",
          "data": {
            "text/plain": [
              "Rank             0\n",
              "Name             0\n",
              "Platform         0\n",
              "Year             0\n",
              "Genre            0\n",
              "Publisher       36\n",
              "NA_Sales         0\n",
              "EU_Sales         0\n",
              "JP_Sales         0\n",
              "Other_Sales      0\n",
              "Global_Sales     0\n",
              "dtype: int64"
            ]
          },
          "metadata": {},
          "execution_count": 173
        }
      ]
    },
    {
      "cell_type": "markdown",
      "source": [
        "There are 36 games left without a record of who is the publisher, but that is not the focus of this seminar, so I will keep those records"
      ],
      "metadata": {
        "id": "nfF10cxD77qF"
      }
    },
    {
      "cell_type": "code",
      "source": [
        "df11.info()"
      ],
      "metadata": {
        "colab": {
          "base_uri": "https://localhost:8080/"
        },
        "id": "yxjt83bi8GuF",
        "outputId": "f94d4dfd-1087-4e3d-ce05-5bb5b8b61703"
      },
      "execution_count": 174,
      "outputs": [
        {
          "output_type": "stream",
          "name": "stdout",
          "text": [
            "<class 'pandas.core.frame.DataFrame'>\n",
            "Int64Index: 16327 entries, 0 to 16597\n",
            "Data columns (total 11 columns):\n",
            " #   Column        Non-Null Count  Dtype  \n",
            "---  ------        --------------  -----  \n",
            " 0   Rank          16327 non-null  int64  \n",
            " 1   Name          16327 non-null  object \n",
            " 2   Platform      16327 non-null  object \n",
            " 3   Year          16327 non-null  float64\n",
            " 4   Genre         16327 non-null  object \n",
            " 5   Publisher     16291 non-null  object \n",
            " 6   NA_Sales      16327 non-null  float64\n",
            " 7   EU_Sales      16327 non-null  float64\n",
            " 8   JP_Sales      16327 non-null  float64\n",
            " 9   Other_Sales   16327 non-null  float64\n",
            " 10  Global_Sales  16327 non-null  float64\n",
            "dtypes: float64(6), int64(1), object(4)\n",
            "memory usage: 1.5+ MB\n"
          ]
        }
      ]
    },
    {
      "cell_type": "markdown",
      "source": [
        "Taking games from 1980 to 2010"
      ],
      "metadata": {
        "id": "3_S5v2pVCpD3"
      }
    },
    {
      "cell_type": "code",
      "source": [
        "df11['Year'] = df11['Year'].astype(int, errors = 'raise')"
      ],
      "metadata": {
        "colab": {
          "base_uri": "https://localhost:8080/"
        },
        "id": "Gf7HUxF1HxFJ",
        "outputId": "582792d5-9afa-47c8-fc6e-42dc3049b72c"
      },
      "execution_count": 175,
      "outputs": [
        {
          "output_type": "stream",
          "name": "stderr",
          "text": [
            "<ipython-input-175-e984808a3293>:1: SettingWithCopyWarning: \n",
            "A value is trying to be set on a copy of a slice from a DataFrame.\n",
            "Try using .loc[row_indexer,col_indexer] = value instead\n",
            "\n",
            "See the caveats in the documentation: https://pandas.pydata.org/pandas-docs/stable/user_guide/indexing.html#returning-a-view-versus-a-copy\n",
            "  df11['Year'] = df11['Year'].astype(int, errors = 'raise')\n"
          ]
        }
      ]
    },
    {
      "cell_type": "code",
      "source": [
        "first_dataframe = df11[ (df11[\"Year\"] > 1979) & (df11[\"Year\"] < 2011) ]"
      ],
      "metadata": {
        "id": "tkJBD3kzCXN3"
      },
      "execution_count": 176,
      "outputs": []
    },
    {
      "cell_type": "markdown",
      "source": [
        "# Cleaning second dataframe"
      ],
      "metadata": {
        "id": "jUChGBEp8gb2"
      }
    },
    {
      "cell_type": "code",
      "source": [
        "df2"
      ],
      "metadata": {
        "colab": {
          "base_uri": "https://localhost:8080/",
          "height": 424
        },
        "id": "eQj_OnFC9_Kd",
        "outputId": "e9b3ddc5-61f2-4b48-c54b-ab537a364ecc"
      },
      "execution_count": 177,
      "outputs": [
        {
          "output_type": "execute_result",
          "data": {
            "text/plain": [
              "     LOCATION,\"INDICATOR\",\"SUBJECT\",\"MEASURE\",\"FREQUENCY\",\"TIME\",\"Value\",\"Flag Codes\"\n",
              "0     AUS,\"GDP\",\"TOT\",\"USD_CAP\",\"A\",\"1980\",10470.286...                              \n",
              "1     AUS,\"GDP\",\"TOT\",\"USD_CAP\",\"A\",\"1981\",11947.245...                              \n",
              "2     AUS,\"GDP\",\"TOT\",\"USD_CAP\",\"A\",\"1982\",11981.66345,                              \n",
              "3     AUS,\"GDP\",\"TOT\",\"USD_CAP\",\"A\",\"1983\",12767.30554,                              \n",
              "4     AUS,\"GDP\",\"TOT\",\"USD_CAP\",\"A\",\"1984\",13593.136...                              \n",
              "...                                                 ...                              \n",
              "1805  SEN,\"GDP\",\"TOT\",\"USD_CAP\",\"A\",\"2011\",2728.699987,                              \n",
              "1806  SEN,\"GDP\",\"TOT\",\"USD_CAP\",\"A\",\"2012\",2798.104708,                              \n",
              "1807  SEN,\"GDP\",\"TOT\",\"USD_CAP\",\"A\",\"2013\",2797.721619,                              \n",
              "1808  SEN,\"GDP\",\"TOT\",\"USD_CAP\",\"A\",\"2014\",2881.298928,                              \n",
              "1809  SEN,\"GDP\",\"TOT\",\"USD_CAP\",\"A\",\"2015\",3017.267768,                              \n",
              "\n",
              "[1810 rows x 1 columns]"
            ],
            "text/html": [
              "\n",
              "  <div id=\"df-676ebe22-170a-43cc-ac85-3f08e1acebfc\" class=\"colab-df-container\">\n",
              "    <div>\n",
              "<style scoped>\n",
              "    .dataframe tbody tr th:only-of-type {\n",
              "        vertical-align: middle;\n",
              "    }\n",
              "\n",
              "    .dataframe tbody tr th {\n",
              "        vertical-align: top;\n",
              "    }\n",
              "\n",
              "    .dataframe thead th {\n",
              "        text-align: right;\n",
              "    }\n",
              "</style>\n",
              "<table border=\"1\" class=\"dataframe\">\n",
              "  <thead>\n",
              "    <tr style=\"text-align: right;\">\n",
              "      <th></th>\n",
              "      <th>LOCATION,\"INDICATOR\",\"SUBJECT\",\"MEASURE\",\"FREQUENCY\",\"TIME\",\"Value\",\"Flag Codes\"</th>\n",
              "    </tr>\n",
              "  </thead>\n",
              "  <tbody>\n",
              "    <tr>\n",
              "      <th>0</th>\n",
              "      <td>AUS,\"GDP\",\"TOT\",\"USD_CAP\",\"A\",\"1980\",10470.286...</td>\n",
              "    </tr>\n",
              "    <tr>\n",
              "      <th>1</th>\n",
              "      <td>AUS,\"GDP\",\"TOT\",\"USD_CAP\",\"A\",\"1981\",11947.245...</td>\n",
              "    </tr>\n",
              "    <tr>\n",
              "      <th>2</th>\n",
              "      <td>AUS,\"GDP\",\"TOT\",\"USD_CAP\",\"A\",\"1982\",11981.66345,</td>\n",
              "    </tr>\n",
              "    <tr>\n",
              "      <th>3</th>\n",
              "      <td>AUS,\"GDP\",\"TOT\",\"USD_CAP\",\"A\",\"1983\",12767.30554,</td>\n",
              "    </tr>\n",
              "    <tr>\n",
              "      <th>4</th>\n",
              "      <td>AUS,\"GDP\",\"TOT\",\"USD_CAP\",\"A\",\"1984\",13593.136...</td>\n",
              "    </tr>\n",
              "    <tr>\n",
              "      <th>...</th>\n",
              "      <td>...</td>\n",
              "    </tr>\n",
              "    <tr>\n",
              "      <th>1805</th>\n",
              "      <td>SEN,\"GDP\",\"TOT\",\"USD_CAP\",\"A\",\"2011\",2728.699987,</td>\n",
              "    </tr>\n",
              "    <tr>\n",
              "      <th>1806</th>\n",
              "      <td>SEN,\"GDP\",\"TOT\",\"USD_CAP\",\"A\",\"2012\",2798.104708,</td>\n",
              "    </tr>\n",
              "    <tr>\n",
              "      <th>1807</th>\n",
              "      <td>SEN,\"GDP\",\"TOT\",\"USD_CAP\",\"A\",\"2013\",2797.721619,</td>\n",
              "    </tr>\n",
              "    <tr>\n",
              "      <th>1808</th>\n",
              "      <td>SEN,\"GDP\",\"TOT\",\"USD_CAP\",\"A\",\"2014\",2881.298928,</td>\n",
              "    </tr>\n",
              "    <tr>\n",
              "      <th>1809</th>\n",
              "      <td>SEN,\"GDP\",\"TOT\",\"USD_CAP\",\"A\",\"2015\",3017.267768,</td>\n",
              "    </tr>\n",
              "  </tbody>\n",
              "</table>\n",
              "<p>1810 rows × 1 columns</p>\n",
              "</div>\n",
              "    <div class=\"colab-df-buttons\">\n",
              "\n",
              "  <div class=\"colab-df-container\">\n",
              "    <button class=\"colab-df-convert\" onclick=\"convertToInteractive('df-676ebe22-170a-43cc-ac85-3f08e1acebfc')\"\n",
              "            title=\"Convert this dataframe to an interactive table.\"\n",
              "            style=\"display:none;\">\n",
              "\n",
              "  <svg xmlns=\"http://www.w3.org/2000/svg\" height=\"24px\" viewBox=\"0 -960 960 960\">\n",
              "    <path d=\"M120-120v-720h720v720H120Zm60-500h600v-160H180v160Zm220 220h160v-160H400v160Zm0 220h160v-160H400v160ZM180-400h160v-160H180v160Zm440 0h160v-160H620v160ZM180-180h160v-160H180v160Zm440 0h160v-160H620v160Z\"/>\n",
              "  </svg>\n",
              "    </button>\n",
              "\n",
              "  <style>\n",
              "    .colab-df-container {\n",
              "      display:flex;\n",
              "      gap: 12px;\n",
              "    }\n",
              "\n",
              "    .colab-df-convert {\n",
              "      background-color: #E8F0FE;\n",
              "      border: none;\n",
              "      border-radius: 50%;\n",
              "      cursor: pointer;\n",
              "      display: none;\n",
              "      fill: #1967D2;\n",
              "      height: 32px;\n",
              "      padding: 0 0 0 0;\n",
              "      width: 32px;\n",
              "    }\n",
              "\n",
              "    .colab-df-convert:hover {\n",
              "      background-color: #E2EBFA;\n",
              "      box-shadow: 0px 1px 2px rgba(60, 64, 67, 0.3), 0px 1px 3px 1px rgba(60, 64, 67, 0.15);\n",
              "      fill: #174EA6;\n",
              "    }\n",
              "\n",
              "    .colab-df-buttons div {\n",
              "      margin-bottom: 4px;\n",
              "    }\n",
              "\n",
              "    [theme=dark] .colab-df-convert {\n",
              "      background-color: #3B4455;\n",
              "      fill: #D2E3FC;\n",
              "    }\n",
              "\n",
              "    [theme=dark] .colab-df-convert:hover {\n",
              "      background-color: #434B5C;\n",
              "      box-shadow: 0px 1px 3px 1px rgba(0, 0, 0, 0.15);\n",
              "      filter: drop-shadow(0px 1px 2px rgba(0, 0, 0, 0.3));\n",
              "      fill: #FFFFFF;\n",
              "    }\n",
              "  </style>\n",
              "\n",
              "    <script>\n",
              "      const buttonEl =\n",
              "        document.querySelector('#df-676ebe22-170a-43cc-ac85-3f08e1acebfc button.colab-df-convert');\n",
              "      buttonEl.style.display =\n",
              "        google.colab.kernel.accessAllowed ? 'block' : 'none';\n",
              "\n",
              "      async function convertToInteractive(key) {\n",
              "        const element = document.querySelector('#df-676ebe22-170a-43cc-ac85-3f08e1acebfc');\n",
              "        const dataTable =\n",
              "          await google.colab.kernel.invokeFunction('convertToInteractive',\n",
              "                                                    [key], {});\n",
              "        if (!dataTable) return;\n",
              "\n",
              "        const docLinkHtml = 'Like what you see? Visit the ' +\n",
              "          '<a target=\"_blank\" href=https://colab.research.google.com/notebooks/data_table.ipynb>data table notebook</a>'\n",
              "          + ' to learn more about interactive tables.';\n",
              "        element.innerHTML = '';\n",
              "        dataTable['output_type'] = 'display_data';\n",
              "        await google.colab.output.renderOutput(dataTable, element);\n",
              "        const docLink = document.createElement('div');\n",
              "        docLink.innerHTML = docLinkHtml;\n",
              "        element.appendChild(docLink);\n",
              "      }\n",
              "    </script>\n",
              "  </div>\n",
              "\n",
              "\n",
              "<div id=\"df-4fbd8647-8658-44ff-996a-30f88ad4a9df\">\n",
              "  <button class=\"colab-df-quickchart\" onclick=\"quickchart('df-4fbd8647-8658-44ff-996a-30f88ad4a9df')\"\n",
              "            title=\"Suggest charts.\"\n",
              "            style=\"display:none;\">\n",
              "\n",
              "<svg xmlns=\"http://www.w3.org/2000/svg\" height=\"24px\"viewBox=\"0 0 24 24\"\n",
              "     width=\"24px\">\n",
              "    <g>\n",
              "        <path d=\"M19 3H5c-1.1 0-2 .9-2 2v14c0 1.1.9 2 2 2h14c1.1 0 2-.9 2-2V5c0-1.1-.9-2-2-2zM9 17H7v-7h2v7zm4 0h-2V7h2v10zm4 0h-2v-4h2v4z\"/>\n",
              "    </g>\n",
              "</svg>\n",
              "  </button>\n",
              "\n",
              "<style>\n",
              "  .colab-df-quickchart {\n",
              "      --bg-color: #E8F0FE;\n",
              "      --fill-color: #1967D2;\n",
              "      --hover-bg-color: #E2EBFA;\n",
              "      --hover-fill-color: #174EA6;\n",
              "      --disabled-fill-color: #AAA;\n",
              "      --disabled-bg-color: #DDD;\n",
              "  }\n",
              "\n",
              "  [theme=dark] .colab-df-quickchart {\n",
              "      --bg-color: #3B4455;\n",
              "      --fill-color: #D2E3FC;\n",
              "      --hover-bg-color: #434B5C;\n",
              "      --hover-fill-color: #FFFFFF;\n",
              "      --disabled-bg-color: #3B4455;\n",
              "      --disabled-fill-color: #666;\n",
              "  }\n",
              "\n",
              "  .colab-df-quickchart {\n",
              "    background-color: var(--bg-color);\n",
              "    border: none;\n",
              "    border-radius: 50%;\n",
              "    cursor: pointer;\n",
              "    display: none;\n",
              "    fill: var(--fill-color);\n",
              "    height: 32px;\n",
              "    padding: 0;\n",
              "    width: 32px;\n",
              "  }\n",
              "\n",
              "  .colab-df-quickchart:hover {\n",
              "    background-color: var(--hover-bg-color);\n",
              "    box-shadow: 0 1px 2px rgba(60, 64, 67, 0.3), 0 1px 3px 1px rgba(60, 64, 67, 0.15);\n",
              "    fill: var(--button-hover-fill-color);\n",
              "  }\n",
              "\n",
              "  .colab-df-quickchart-complete:disabled,\n",
              "  .colab-df-quickchart-complete:disabled:hover {\n",
              "    background-color: var(--disabled-bg-color);\n",
              "    fill: var(--disabled-fill-color);\n",
              "    box-shadow: none;\n",
              "  }\n",
              "\n",
              "  .colab-df-spinner {\n",
              "    border: 2px solid var(--fill-color);\n",
              "    border-color: transparent;\n",
              "    border-bottom-color: var(--fill-color);\n",
              "    animation:\n",
              "      spin 1s steps(1) infinite;\n",
              "  }\n",
              "\n",
              "  @keyframes spin {\n",
              "    0% {\n",
              "      border-color: transparent;\n",
              "      border-bottom-color: var(--fill-color);\n",
              "      border-left-color: var(--fill-color);\n",
              "    }\n",
              "    20% {\n",
              "      border-color: transparent;\n",
              "      border-left-color: var(--fill-color);\n",
              "      border-top-color: var(--fill-color);\n",
              "    }\n",
              "    30% {\n",
              "      border-color: transparent;\n",
              "      border-left-color: var(--fill-color);\n",
              "      border-top-color: var(--fill-color);\n",
              "      border-right-color: var(--fill-color);\n",
              "    }\n",
              "    40% {\n",
              "      border-color: transparent;\n",
              "      border-right-color: var(--fill-color);\n",
              "      border-top-color: var(--fill-color);\n",
              "    }\n",
              "    60% {\n",
              "      border-color: transparent;\n",
              "      border-right-color: var(--fill-color);\n",
              "    }\n",
              "    80% {\n",
              "      border-color: transparent;\n",
              "      border-right-color: var(--fill-color);\n",
              "      border-bottom-color: var(--fill-color);\n",
              "    }\n",
              "    90% {\n",
              "      border-color: transparent;\n",
              "      border-bottom-color: var(--fill-color);\n",
              "    }\n",
              "  }\n",
              "</style>\n",
              "\n",
              "  <script>\n",
              "    async function quickchart(key) {\n",
              "      const quickchartButtonEl =\n",
              "        document.querySelector('#' + key + ' button');\n",
              "      quickchartButtonEl.disabled = true;  // To prevent multiple clicks.\n",
              "      quickchartButtonEl.classList.add('colab-df-spinner');\n",
              "      try {\n",
              "        const charts = await google.colab.kernel.invokeFunction(\n",
              "            'suggestCharts', [key], {});\n",
              "      } catch (error) {\n",
              "        console.error('Error during call to suggestCharts:', error);\n",
              "      }\n",
              "      quickchartButtonEl.classList.remove('colab-df-spinner');\n",
              "      quickchartButtonEl.classList.add('colab-df-quickchart-complete');\n",
              "    }\n",
              "    (() => {\n",
              "      let quickchartButtonEl =\n",
              "        document.querySelector('#df-4fbd8647-8658-44ff-996a-30f88ad4a9df button');\n",
              "      quickchartButtonEl.style.display =\n",
              "        google.colab.kernel.accessAllowed ? 'block' : 'none';\n",
              "    })();\n",
              "  </script>\n",
              "</div>\n",
              "    </div>\n",
              "  </div>\n"
            ]
          },
          "metadata": {},
          "execution_count": 177
        }
      ]
    },
    {
      "cell_type": "code",
      "source": [
        "for col in df2.columns:\n",
        "    print(col)"
      ],
      "metadata": {
        "colab": {
          "base_uri": "https://localhost:8080/"
        },
        "id": "zL5q_CK7-eE-",
        "outputId": "685717f3-946c-4992-c8f5-ef2b819dc9b7"
      },
      "execution_count": 178,
      "outputs": [
        {
          "output_type": "stream",
          "name": "stdout",
          "text": [
            "LOCATION,\"INDICATOR\",\"SUBJECT\",\"MEASURE\",\"FREQUENCY\",\"TIME\",\"Value\",\"Flag Codes\"\n"
          ]
        }
      ]
    },
    {
      "cell_type": "markdown",
      "source": [
        "Column division by commas"
      ],
      "metadata": {
        "id": "T3rDYA8rCOAg"
      }
    },
    {
      "cell_type": "code",
      "source": [
        "df2[['Location', 'Indicator', 'Subject', 'Measure', 'Frequency', 'Time', 'Value', 'Flag Codes']] = df2['LOCATION,\"INDICATOR\",\"SUBJECT\",\"MEASURE\",\"FREQUENCY\",\"TIME\",\"Value\",\"Flag Codes\"'].str.split(',', expand=True)"
      ],
      "metadata": {
        "id": "FVsQ7AofACrm"
      },
      "execution_count": 179,
      "outputs": []
    },
    {
      "cell_type": "markdown",
      "source": [
        "Deleting frist column"
      ],
      "metadata": {
        "id": "mfnQ9X_zCQOH"
      }
    },
    {
      "cell_type": "code",
      "source": [
        "df22 = df2.drop('LOCATION,\"INDICATOR\",\"SUBJECT\",\"MEASURE\",\"FREQUENCY\",\"TIME\",\"Value\",\"Flag Codes\"', axis=1)"
      ],
      "metadata": {
        "id": "gezRfqSoATVB"
      },
      "execution_count": 180,
      "outputs": []
    },
    {
      "cell_type": "markdown",
      "source": [
        "It is necessary to remove the quotation marks from the Time field, so that it can join the datasets by that field"
      ],
      "metadata": {
        "id": "EY1Bj_0fDVfo"
      }
    },
    {
      "cell_type": "code",
      "source": [
        "df22 = df22.replace('\"', '', regex=True)"
      ],
      "metadata": {
        "id": "Ahemxw6CEag_"
      },
      "execution_count": 181,
      "outputs": []
    },
    {
      "cell_type": "code",
      "source": [
        "df22['Time'] = df22['Time'].astype(int, errors = 'raise')"
      ],
      "metadata": {
        "id": "zAQ5gRU8ElXA"
      },
      "execution_count": 182,
      "outputs": []
    },
    {
      "cell_type": "code",
      "source": [
        "df22['Value'] = df22['Value'].astype(float, errors = 'raise')"
      ],
      "metadata": {
        "id": "btasSeKjxz2i"
      },
      "execution_count": 183,
      "outputs": []
    },
    {
      "cell_type": "code",
      "source": [
        "df22"
      ],
      "metadata": {
        "colab": {
          "base_uri": "https://localhost:8080/",
          "height": 424
        },
        "id": "lV1-j4_kFQFY",
        "outputId": "028e7635-3fc1-42e4-d3d1-5094628e21ea"
      },
      "execution_count": 184,
      "outputs": [
        {
          "output_type": "execute_result",
          "data": {
            "text/plain": [
              "     Location Indicator Subject  Measure Frequency  Time         Value  \\\n",
              "0         AUS       GDP     TOT  USD_CAP         A  1980  10470.286937   \n",
              "1         AUS       GDP     TOT  USD_CAP         A  1981  11947.245259   \n",
              "2         AUS       GDP     TOT  USD_CAP         A  1982  11981.663450   \n",
              "3         AUS       GDP     TOT  USD_CAP         A  1983  12767.305540   \n",
              "4         AUS       GDP     TOT  USD_CAP         A  1984  13593.136482   \n",
              "...       ...       ...     ...      ...       ...   ...           ...   \n",
              "1805      SEN       GDP     TOT  USD_CAP         A  2011   2728.699987   \n",
              "1806      SEN       GDP     TOT  USD_CAP         A  2012   2798.104708   \n",
              "1807      SEN       GDP     TOT  USD_CAP         A  2013   2797.721619   \n",
              "1808      SEN       GDP     TOT  USD_CAP         A  2014   2881.298928   \n",
              "1809      SEN       GDP     TOT  USD_CAP         A  2015   3017.267768   \n",
              "\n",
              "     Flag Codes  \n",
              "0                \n",
              "1                \n",
              "2                \n",
              "3                \n",
              "4                \n",
              "...         ...  \n",
              "1805             \n",
              "1806             \n",
              "1807             \n",
              "1808             \n",
              "1809             \n",
              "\n",
              "[1810 rows x 8 columns]"
            ],
            "text/html": [
              "\n",
              "  <div id=\"df-b2bd27da-edd2-4a5d-9d8b-5a0d9d0f5ffa\" class=\"colab-df-container\">\n",
              "    <div>\n",
              "<style scoped>\n",
              "    .dataframe tbody tr th:only-of-type {\n",
              "        vertical-align: middle;\n",
              "    }\n",
              "\n",
              "    .dataframe tbody tr th {\n",
              "        vertical-align: top;\n",
              "    }\n",
              "\n",
              "    .dataframe thead th {\n",
              "        text-align: right;\n",
              "    }\n",
              "</style>\n",
              "<table border=\"1\" class=\"dataframe\">\n",
              "  <thead>\n",
              "    <tr style=\"text-align: right;\">\n",
              "      <th></th>\n",
              "      <th>Location</th>\n",
              "      <th>Indicator</th>\n",
              "      <th>Subject</th>\n",
              "      <th>Measure</th>\n",
              "      <th>Frequency</th>\n",
              "      <th>Time</th>\n",
              "      <th>Value</th>\n",
              "      <th>Flag Codes</th>\n",
              "    </tr>\n",
              "  </thead>\n",
              "  <tbody>\n",
              "    <tr>\n",
              "      <th>0</th>\n",
              "      <td>AUS</td>\n",
              "      <td>GDP</td>\n",
              "      <td>TOT</td>\n",
              "      <td>USD_CAP</td>\n",
              "      <td>A</td>\n",
              "      <td>1980</td>\n",
              "      <td>10470.286937</td>\n",
              "      <td></td>\n",
              "    </tr>\n",
              "    <tr>\n",
              "      <th>1</th>\n",
              "      <td>AUS</td>\n",
              "      <td>GDP</td>\n",
              "      <td>TOT</td>\n",
              "      <td>USD_CAP</td>\n",
              "      <td>A</td>\n",
              "      <td>1981</td>\n",
              "      <td>11947.245259</td>\n",
              "      <td></td>\n",
              "    </tr>\n",
              "    <tr>\n",
              "      <th>2</th>\n",
              "      <td>AUS</td>\n",
              "      <td>GDP</td>\n",
              "      <td>TOT</td>\n",
              "      <td>USD_CAP</td>\n",
              "      <td>A</td>\n",
              "      <td>1982</td>\n",
              "      <td>11981.663450</td>\n",
              "      <td></td>\n",
              "    </tr>\n",
              "    <tr>\n",
              "      <th>3</th>\n",
              "      <td>AUS</td>\n",
              "      <td>GDP</td>\n",
              "      <td>TOT</td>\n",
              "      <td>USD_CAP</td>\n",
              "      <td>A</td>\n",
              "      <td>1983</td>\n",
              "      <td>12767.305540</td>\n",
              "      <td></td>\n",
              "    </tr>\n",
              "    <tr>\n",
              "      <th>4</th>\n",
              "      <td>AUS</td>\n",
              "      <td>GDP</td>\n",
              "      <td>TOT</td>\n",
              "      <td>USD_CAP</td>\n",
              "      <td>A</td>\n",
              "      <td>1984</td>\n",
              "      <td>13593.136482</td>\n",
              "      <td></td>\n",
              "    </tr>\n",
              "    <tr>\n",
              "      <th>...</th>\n",
              "      <td>...</td>\n",
              "      <td>...</td>\n",
              "      <td>...</td>\n",
              "      <td>...</td>\n",
              "      <td>...</td>\n",
              "      <td>...</td>\n",
              "      <td>...</td>\n",
              "      <td>...</td>\n",
              "    </tr>\n",
              "    <tr>\n",
              "      <th>1805</th>\n",
              "      <td>SEN</td>\n",
              "      <td>GDP</td>\n",
              "      <td>TOT</td>\n",
              "      <td>USD_CAP</td>\n",
              "      <td>A</td>\n",
              "      <td>2011</td>\n",
              "      <td>2728.699987</td>\n",
              "      <td></td>\n",
              "    </tr>\n",
              "    <tr>\n",
              "      <th>1806</th>\n",
              "      <td>SEN</td>\n",
              "      <td>GDP</td>\n",
              "      <td>TOT</td>\n",
              "      <td>USD_CAP</td>\n",
              "      <td>A</td>\n",
              "      <td>2012</td>\n",
              "      <td>2798.104708</td>\n",
              "      <td></td>\n",
              "    </tr>\n",
              "    <tr>\n",
              "      <th>1807</th>\n",
              "      <td>SEN</td>\n",
              "      <td>GDP</td>\n",
              "      <td>TOT</td>\n",
              "      <td>USD_CAP</td>\n",
              "      <td>A</td>\n",
              "      <td>2013</td>\n",
              "      <td>2797.721619</td>\n",
              "      <td></td>\n",
              "    </tr>\n",
              "    <tr>\n",
              "      <th>1808</th>\n",
              "      <td>SEN</td>\n",
              "      <td>GDP</td>\n",
              "      <td>TOT</td>\n",
              "      <td>USD_CAP</td>\n",
              "      <td>A</td>\n",
              "      <td>2014</td>\n",
              "      <td>2881.298928</td>\n",
              "      <td></td>\n",
              "    </tr>\n",
              "    <tr>\n",
              "      <th>1809</th>\n",
              "      <td>SEN</td>\n",
              "      <td>GDP</td>\n",
              "      <td>TOT</td>\n",
              "      <td>USD_CAP</td>\n",
              "      <td>A</td>\n",
              "      <td>2015</td>\n",
              "      <td>3017.267768</td>\n",
              "      <td></td>\n",
              "    </tr>\n",
              "  </tbody>\n",
              "</table>\n",
              "<p>1810 rows × 8 columns</p>\n",
              "</div>\n",
              "    <div class=\"colab-df-buttons\">\n",
              "\n",
              "  <div class=\"colab-df-container\">\n",
              "    <button class=\"colab-df-convert\" onclick=\"convertToInteractive('df-b2bd27da-edd2-4a5d-9d8b-5a0d9d0f5ffa')\"\n",
              "            title=\"Convert this dataframe to an interactive table.\"\n",
              "            style=\"display:none;\">\n",
              "\n",
              "  <svg xmlns=\"http://www.w3.org/2000/svg\" height=\"24px\" viewBox=\"0 -960 960 960\">\n",
              "    <path d=\"M120-120v-720h720v720H120Zm60-500h600v-160H180v160Zm220 220h160v-160H400v160Zm0 220h160v-160H400v160ZM180-400h160v-160H180v160Zm440 0h160v-160H620v160ZM180-180h160v-160H180v160Zm440 0h160v-160H620v160Z\"/>\n",
              "  </svg>\n",
              "    </button>\n",
              "\n",
              "  <style>\n",
              "    .colab-df-container {\n",
              "      display:flex;\n",
              "      gap: 12px;\n",
              "    }\n",
              "\n",
              "    .colab-df-convert {\n",
              "      background-color: #E8F0FE;\n",
              "      border: none;\n",
              "      border-radius: 50%;\n",
              "      cursor: pointer;\n",
              "      display: none;\n",
              "      fill: #1967D2;\n",
              "      height: 32px;\n",
              "      padding: 0 0 0 0;\n",
              "      width: 32px;\n",
              "    }\n",
              "\n",
              "    .colab-df-convert:hover {\n",
              "      background-color: #E2EBFA;\n",
              "      box-shadow: 0px 1px 2px rgba(60, 64, 67, 0.3), 0px 1px 3px 1px rgba(60, 64, 67, 0.15);\n",
              "      fill: #174EA6;\n",
              "    }\n",
              "\n",
              "    .colab-df-buttons div {\n",
              "      margin-bottom: 4px;\n",
              "    }\n",
              "\n",
              "    [theme=dark] .colab-df-convert {\n",
              "      background-color: #3B4455;\n",
              "      fill: #D2E3FC;\n",
              "    }\n",
              "\n",
              "    [theme=dark] .colab-df-convert:hover {\n",
              "      background-color: #434B5C;\n",
              "      box-shadow: 0px 1px 3px 1px rgba(0, 0, 0, 0.15);\n",
              "      filter: drop-shadow(0px 1px 2px rgba(0, 0, 0, 0.3));\n",
              "      fill: #FFFFFF;\n",
              "    }\n",
              "  </style>\n",
              "\n",
              "    <script>\n",
              "      const buttonEl =\n",
              "        document.querySelector('#df-b2bd27da-edd2-4a5d-9d8b-5a0d9d0f5ffa button.colab-df-convert');\n",
              "      buttonEl.style.display =\n",
              "        google.colab.kernel.accessAllowed ? 'block' : 'none';\n",
              "\n",
              "      async function convertToInteractive(key) {\n",
              "        const element = document.querySelector('#df-b2bd27da-edd2-4a5d-9d8b-5a0d9d0f5ffa');\n",
              "        const dataTable =\n",
              "          await google.colab.kernel.invokeFunction('convertToInteractive',\n",
              "                                                    [key], {});\n",
              "        if (!dataTable) return;\n",
              "\n",
              "        const docLinkHtml = 'Like what you see? Visit the ' +\n",
              "          '<a target=\"_blank\" href=https://colab.research.google.com/notebooks/data_table.ipynb>data table notebook</a>'\n",
              "          + ' to learn more about interactive tables.';\n",
              "        element.innerHTML = '';\n",
              "        dataTable['output_type'] = 'display_data';\n",
              "        await google.colab.output.renderOutput(dataTable, element);\n",
              "        const docLink = document.createElement('div');\n",
              "        docLink.innerHTML = docLinkHtml;\n",
              "        element.appendChild(docLink);\n",
              "      }\n",
              "    </script>\n",
              "  </div>\n",
              "\n",
              "\n",
              "<div id=\"df-b8cf9bdb-472d-4f40-9541-7d838179b560\">\n",
              "  <button class=\"colab-df-quickchart\" onclick=\"quickchart('df-b8cf9bdb-472d-4f40-9541-7d838179b560')\"\n",
              "            title=\"Suggest charts.\"\n",
              "            style=\"display:none;\">\n",
              "\n",
              "<svg xmlns=\"http://www.w3.org/2000/svg\" height=\"24px\"viewBox=\"0 0 24 24\"\n",
              "     width=\"24px\">\n",
              "    <g>\n",
              "        <path d=\"M19 3H5c-1.1 0-2 .9-2 2v14c0 1.1.9 2 2 2h14c1.1 0 2-.9 2-2V5c0-1.1-.9-2-2-2zM9 17H7v-7h2v7zm4 0h-2V7h2v10zm4 0h-2v-4h2v4z\"/>\n",
              "    </g>\n",
              "</svg>\n",
              "  </button>\n",
              "\n",
              "<style>\n",
              "  .colab-df-quickchart {\n",
              "      --bg-color: #E8F0FE;\n",
              "      --fill-color: #1967D2;\n",
              "      --hover-bg-color: #E2EBFA;\n",
              "      --hover-fill-color: #174EA6;\n",
              "      --disabled-fill-color: #AAA;\n",
              "      --disabled-bg-color: #DDD;\n",
              "  }\n",
              "\n",
              "  [theme=dark] .colab-df-quickchart {\n",
              "      --bg-color: #3B4455;\n",
              "      --fill-color: #D2E3FC;\n",
              "      --hover-bg-color: #434B5C;\n",
              "      --hover-fill-color: #FFFFFF;\n",
              "      --disabled-bg-color: #3B4455;\n",
              "      --disabled-fill-color: #666;\n",
              "  }\n",
              "\n",
              "  .colab-df-quickchart {\n",
              "    background-color: var(--bg-color);\n",
              "    border: none;\n",
              "    border-radius: 50%;\n",
              "    cursor: pointer;\n",
              "    display: none;\n",
              "    fill: var(--fill-color);\n",
              "    height: 32px;\n",
              "    padding: 0;\n",
              "    width: 32px;\n",
              "  }\n",
              "\n",
              "  .colab-df-quickchart:hover {\n",
              "    background-color: var(--hover-bg-color);\n",
              "    box-shadow: 0 1px 2px rgba(60, 64, 67, 0.3), 0 1px 3px 1px rgba(60, 64, 67, 0.15);\n",
              "    fill: var(--button-hover-fill-color);\n",
              "  }\n",
              "\n",
              "  .colab-df-quickchart-complete:disabled,\n",
              "  .colab-df-quickchart-complete:disabled:hover {\n",
              "    background-color: var(--disabled-bg-color);\n",
              "    fill: var(--disabled-fill-color);\n",
              "    box-shadow: none;\n",
              "  }\n",
              "\n",
              "  .colab-df-spinner {\n",
              "    border: 2px solid var(--fill-color);\n",
              "    border-color: transparent;\n",
              "    border-bottom-color: var(--fill-color);\n",
              "    animation:\n",
              "      spin 1s steps(1) infinite;\n",
              "  }\n",
              "\n",
              "  @keyframes spin {\n",
              "    0% {\n",
              "      border-color: transparent;\n",
              "      border-bottom-color: var(--fill-color);\n",
              "      border-left-color: var(--fill-color);\n",
              "    }\n",
              "    20% {\n",
              "      border-color: transparent;\n",
              "      border-left-color: var(--fill-color);\n",
              "      border-top-color: var(--fill-color);\n",
              "    }\n",
              "    30% {\n",
              "      border-color: transparent;\n",
              "      border-left-color: var(--fill-color);\n",
              "      border-top-color: var(--fill-color);\n",
              "      border-right-color: var(--fill-color);\n",
              "    }\n",
              "    40% {\n",
              "      border-color: transparent;\n",
              "      border-right-color: var(--fill-color);\n",
              "      border-top-color: var(--fill-color);\n",
              "    }\n",
              "    60% {\n",
              "      border-color: transparent;\n",
              "      border-right-color: var(--fill-color);\n",
              "    }\n",
              "    80% {\n",
              "      border-color: transparent;\n",
              "      border-right-color: var(--fill-color);\n",
              "      border-bottom-color: var(--fill-color);\n",
              "    }\n",
              "    90% {\n",
              "      border-color: transparent;\n",
              "      border-bottom-color: var(--fill-color);\n",
              "    }\n",
              "  }\n",
              "</style>\n",
              "\n",
              "  <script>\n",
              "    async function quickchart(key) {\n",
              "      const quickchartButtonEl =\n",
              "        document.querySelector('#' + key + ' button');\n",
              "      quickchartButtonEl.disabled = true;  // To prevent multiple clicks.\n",
              "      quickchartButtonEl.classList.add('colab-df-spinner');\n",
              "      try {\n",
              "        const charts = await google.colab.kernel.invokeFunction(\n",
              "            'suggestCharts', [key], {});\n",
              "      } catch (error) {\n",
              "        console.error('Error during call to suggestCharts:', error);\n",
              "      }\n",
              "      quickchartButtonEl.classList.remove('colab-df-spinner');\n",
              "      quickchartButtonEl.classList.add('colab-df-quickchart-complete');\n",
              "    }\n",
              "    (() => {\n",
              "      let quickchartButtonEl =\n",
              "        document.querySelector('#df-b8cf9bdb-472d-4f40-9541-7d838179b560 button');\n",
              "      quickchartButtonEl.style.display =\n",
              "        google.colab.kernel.accessAllowed ? 'block' : 'none';\n",
              "    })();\n",
              "  </script>\n",
              "</div>\n",
              "    </div>\n",
              "  </div>\n"
            ]
          },
          "metadata": {},
          "execution_count": 184
        }
      ]
    },
    {
      "cell_type": "code",
      "source": [
        "df22.rename(columns = {'Time':'Year'}, inplace = True)"
      ],
      "metadata": {
        "id": "Q2wnypUUJ-OR"
      },
      "execution_count": 185,
      "outputs": []
    },
    {
      "cell_type": "markdown",
      "source": [
        "At the center of the research are North America (I will take the 3 largest countries; USA, Canada and Mexico) and Japan"
      ],
      "metadata": {
        "id": "PvvgRfiwFE5Q"
      }
    },
    {
      "cell_type": "code",
      "source": [
        "df22 = df22[ (df22[\"Location\"] == \"MEX\") | (df22[\"Location\"] == \"USA\")  | (df22[\"Location\"] == \"CAN\" ) | (df22[\"Location\"] == \"JPN\")]"
      ],
      "metadata": {
        "id": "hXlLhG1QFFqw"
      },
      "execution_count": 186,
      "outputs": []
    },
    {
      "cell_type": "markdown",
      "source": [
        "I leave the location, time and GDP value"
      ],
      "metadata": {
        "id": "IPptzY6zGYLg"
      }
    },
    {
      "cell_type": "code",
      "source": [
        "second_dataframe = df22.drop(['Indicator', 'Subject', 'Measure', 'Frequency', 'Flag Codes'], axis = 1)"
      ],
      "metadata": {
        "id": "ExdshGQxF4wv"
      },
      "execution_count": 187,
      "outputs": []
    },
    {
      "cell_type": "code",
      "source": [
        "second_dataframeJPN = second_dataframe[ second_dataframe[\"Location\"] == \"JPN\"]"
      ],
      "metadata": {
        "id": "eRR1aSvrGnpY"
      },
      "execution_count": 188,
      "outputs": []
    },
    {
      "cell_type": "code",
      "source": [
        "second_dataframeCAN = second_dataframe[ second_dataframe[\"Location\"] == \"CAN\"]"
      ],
      "metadata": {
        "id": "5iwFgxF8JMl4"
      },
      "execution_count": 189,
      "outputs": []
    },
    {
      "cell_type": "code",
      "source": [
        "second_dataframeUSA = second_dataframe[ second_dataframe[\"Location\"] == \"USA\"]"
      ],
      "metadata": {
        "id": "BIjiVDrkJNGn"
      },
      "execution_count": 190,
      "outputs": []
    },
    {
      "cell_type": "code",
      "source": [
        "second_dataframeMEX = second_dataframe[ second_dataframe[\"Location\"] == \"MEX\"]"
      ],
      "metadata": {
        "id": "cgn2ZmUkJM_Q"
      },
      "execution_count": 191,
      "outputs": []
    },
    {
      "cell_type": "markdown",
      "source": [
        "# Merging all dataframes"
      ],
      "metadata": {
        "id": "bDlX2hXjIHN4"
      }
    },
    {
      "cell_type": "markdown",
      "source": [
        "Adding Canada's GDP"
      ],
      "metadata": {
        "id": "AZ04QeiXLDmZ"
      }
    },
    {
      "cell_type": "code",
      "source": [
        "first_dataframe = first_dataframe.merge(second_dataframeCAN, on = \"Year\")"
      ],
      "metadata": {
        "id": "ujC23JgdPyCh"
      },
      "execution_count": 192,
      "outputs": []
    },
    {
      "cell_type": "code",
      "source": [
        "first_dataframe = first_dataframe.drop(['Location'], axis = 1)"
      ],
      "metadata": {
        "id": "IQDYuY8-P4d5"
      },
      "execution_count": 193,
      "outputs": []
    },
    {
      "cell_type": "code",
      "source": [
        "first_dataframe.rename(columns = {'Value':'GDP_Japan'}, inplace = True)"
      ],
      "metadata": {
        "id": "BCmJfbyPQSlq"
      },
      "execution_count": 194,
      "outputs": []
    },
    {
      "cell_type": "code",
      "source": [
        "first_dataframe"
      ],
      "metadata": {
        "colab": {
          "base_uri": "https://localhost:8080/",
          "height": 424
        },
        "id": "hjAEh1CfQnhb",
        "outputId": "af030c28-6104-4fa6-d449-5fdfb7a92e1d"
      },
      "execution_count": 195,
      "outputs": [
        {
          "output_type": "execute_result",
          "data": {
            "text/plain": [
              "       Rank                                    Name Platform  Year  \\\n",
              "0         1                              Wii Sports      Wii  2006   \n",
              "1         7                   New Super Mario Bros.       DS  2006   \n",
              "2         8                                Wii Play      Wii  2006   \n",
              "3        21           Pokemon Diamond/Pokemon Pearl       DS  2006   \n",
              "4       101  The Legend of Zelda: Twilight Princess      Wii  2006   \n",
              "...     ...                                     ...      ...   ...   \n",
              "12436  4782                                   Pengo     2600  1983   \n",
              "12437  5384                               Frostbite     2600  1983   \n",
              "12438  5561                 Frogger II: Threeedeep!     2600  1983   \n",
              "12439  6009                                 Dolphin     2600  1983   \n",
              "12440  8459                        Mr. Do!'s Castle     2600  1983   \n",
              "\n",
              "              Genre     Publisher  NA_Sales  EU_Sales  JP_Sales  Other_Sales  \\\n",
              "0            Sports      Nintendo     41.49     29.02      3.77         8.46   \n",
              "1          Platform      Nintendo     11.38      9.23      6.50         2.90   \n",
              "2              Misc      Nintendo     14.03      9.20      2.93         2.85   \n",
              "3      Role-Playing      Nintendo      6.42      4.52      6.04         1.37   \n",
              "4            Action      Nintendo      3.83      2.19      0.60         0.70   \n",
              "...             ...           ...       ...       ...       ...          ...   \n",
              "12436     Adventure         Atari      0.38      0.02      0.00         0.00   \n",
              "12437        Action    Activision      0.32      0.02      0.00         0.00   \n",
              "12438        Action  Parker Bros.      0.31      0.02      0.00         0.00   \n",
              "12439        Action    Activision      0.27      0.02      0.00         0.00   \n",
              "12440        Action  Parker Bros.      0.15      0.01      0.00         0.00   \n",
              "\n",
              "       Global_Sales     GDP_Japan  \n",
              "0             82.74  38120.176792  \n",
              "1             30.01  38120.176792  \n",
              "2             29.02  38120.176792  \n",
              "3             18.36  38120.176792  \n",
              "4              7.31  38120.176792  \n",
              "...             ...           ...  \n",
              "12436          0.40  14034.005498  \n",
              "12437          0.34  14034.005498  \n",
              "12438          0.33  14034.005498  \n",
              "12439          0.29  14034.005498  \n",
              "12440          0.17  14034.005498  \n",
              "\n",
              "[12441 rows x 12 columns]"
            ],
            "text/html": [
              "\n",
              "  <div id=\"df-c0f33b49-51a3-4379-8194-c889f4006b37\" class=\"colab-df-container\">\n",
              "    <div>\n",
              "<style scoped>\n",
              "    .dataframe tbody tr th:only-of-type {\n",
              "        vertical-align: middle;\n",
              "    }\n",
              "\n",
              "    .dataframe tbody tr th {\n",
              "        vertical-align: top;\n",
              "    }\n",
              "\n",
              "    .dataframe thead th {\n",
              "        text-align: right;\n",
              "    }\n",
              "</style>\n",
              "<table border=\"1\" class=\"dataframe\">\n",
              "  <thead>\n",
              "    <tr style=\"text-align: right;\">\n",
              "      <th></th>\n",
              "      <th>Rank</th>\n",
              "      <th>Name</th>\n",
              "      <th>Platform</th>\n",
              "      <th>Year</th>\n",
              "      <th>Genre</th>\n",
              "      <th>Publisher</th>\n",
              "      <th>NA_Sales</th>\n",
              "      <th>EU_Sales</th>\n",
              "      <th>JP_Sales</th>\n",
              "      <th>Other_Sales</th>\n",
              "      <th>Global_Sales</th>\n",
              "      <th>GDP_Japan</th>\n",
              "    </tr>\n",
              "  </thead>\n",
              "  <tbody>\n",
              "    <tr>\n",
              "      <th>0</th>\n",
              "      <td>1</td>\n",
              "      <td>Wii Sports</td>\n",
              "      <td>Wii</td>\n",
              "      <td>2006</td>\n",
              "      <td>Sports</td>\n",
              "      <td>Nintendo</td>\n",
              "      <td>41.49</td>\n",
              "      <td>29.02</td>\n",
              "      <td>3.77</td>\n",
              "      <td>8.46</td>\n",
              "      <td>82.74</td>\n",
              "      <td>38120.176792</td>\n",
              "    </tr>\n",
              "    <tr>\n",
              "      <th>1</th>\n",
              "      <td>7</td>\n",
              "      <td>New Super Mario Bros.</td>\n",
              "      <td>DS</td>\n",
              "      <td>2006</td>\n",
              "      <td>Platform</td>\n",
              "      <td>Nintendo</td>\n",
              "      <td>11.38</td>\n",
              "      <td>9.23</td>\n",
              "      <td>6.50</td>\n",
              "      <td>2.90</td>\n",
              "      <td>30.01</td>\n",
              "      <td>38120.176792</td>\n",
              "    </tr>\n",
              "    <tr>\n",
              "      <th>2</th>\n",
              "      <td>8</td>\n",
              "      <td>Wii Play</td>\n",
              "      <td>Wii</td>\n",
              "      <td>2006</td>\n",
              "      <td>Misc</td>\n",
              "      <td>Nintendo</td>\n",
              "      <td>14.03</td>\n",
              "      <td>9.20</td>\n",
              "      <td>2.93</td>\n",
              "      <td>2.85</td>\n",
              "      <td>29.02</td>\n",
              "      <td>38120.176792</td>\n",
              "    </tr>\n",
              "    <tr>\n",
              "      <th>3</th>\n",
              "      <td>21</td>\n",
              "      <td>Pokemon Diamond/Pokemon Pearl</td>\n",
              "      <td>DS</td>\n",
              "      <td>2006</td>\n",
              "      <td>Role-Playing</td>\n",
              "      <td>Nintendo</td>\n",
              "      <td>6.42</td>\n",
              "      <td>4.52</td>\n",
              "      <td>6.04</td>\n",
              "      <td>1.37</td>\n",
              "      <td>18.36</td>\n",
              "      <td>38120.176792</td>\n",
              "    </tr>\n",
              "    <tr>\n",
              "      <th>4</th>\n",
              "      <td>101</td>\n",
              "      <td>The Legend of Zelda: Twilight Princess</td>\n",
              "      <td>Wii</td>\n",
              "      <td>2006</td>\n",
              "      <td>Action</td>\n",
              "      <td>Nintendo</td>\n",
              "      <td>3.83</td>\n",
              "      <td>2.19</td>\n",
              "      <td>0.60</td>\n",
              "      <td>0.70</td>\n",
              "      <td>7.31</td>\n",
              "      <td>38120.176792</td>\n",
              "    </tr>\n",
              "    <tr>\n",
              "      <th>...</th>\n",
              "      <td>...</td>\n",
              "      <td>...</td>\n",
              "      <td>...</td>\n",
              "      <td>...</td>\n",
              "      <td>...</td>\n",
              "      <td>...</td>\n",
              "      <td>...</td>\n",
              "      <td>...</td>\n",
              "      <td>...</td>\n",
              "      <td>...</td>\n",
              "      <td>...</td>\n",
              "      <td>...</td>\n",
              "    </tr>\n",
              "    <tr>\n",
              "      <th>12436</th>\n",
              "      <td>4782</td>\n",
              "      <td>Pengo</td>\n",
              "      <td>2600</td>\n",
              "      <td>1983</td>\n",
              "      <td>Adventure</td>\n",
              "      <td>Atari</td>\n",
              "      <td>0.38</td>\n",
              "      <td>0.02</td>\n",
              "      <td>0.00</td>\n",
              "      <td>0.00</td>\n",
              "      <td>0.40</td>\n",
              "      <td>14034.005498</td>\n",
              "    </tr>\n",
              "    <tr>\n",
              "      <th>12437</th>\n",
              "      <td>5384</td>\n",
              "      <td>Frostbite</td>\n",
              "      <td>2600</td>\n",
              "      <td>1983</td>\n",
              "      <td>Action</td>\n",
              "      <td>Activision</td>\n",
              "      <td>0.32</td>\n",
              "      <td>0.02</td>\n",
              "      <td>0.00</td>\n",
              "      <td>0.00</td>\n",
              "      <td>0.34</td>\n",
              "      <td>14034.005498</td>\n",
              "    </tr>\n",
              "    <tr>\n",
              "      <th>12438</th>\n",
              "      <td>5561</td>\n",
              "      <td>Frogger II: Threeedeep!</td>\n",
              "      <td>2600</td>\n",
              "      <td>1983</td>\n",
              "      <td>Action</td>\n",
              "      <td>Parker Bros.</td>\n",
              "      <td>0.31</td>\n",
              "      <td>0.02</td>\n",
              "      <td>0.00</td>\n",
              "      <td>0.00</td>\n",
              "      <td>0.33</td>\n",
              "      <td>14034.005498</td>\n",
              "    </tr>\n",
              "    <tr>\n",
              "      <th>12439</th>\n",
              "      <td>6009</td>\n",
              "      <td>Dolphin</td>\n",
              "      <td>2600</td>\n",
              "      <td>1983</td>\n",
              "      <td>Action</td>\n",
              "      <td>Activision</td>\n",
              "      <td>0.27</td>\n",
              "      <td>0.02</td>\n",
              "      <td>0.00</td>\n",
              "      <td>0.00</td>\n",
              "      <td>0.29</td>\n",
              "      <td>14034.005498</td>\n",
              "    </tr>\n",
              "    <tr>\n",
              "      <th>12440</th>\n",
              "      <td>8459</td>\n",
              "      <td>Mr. Do!'s Castle</td>\n",
              "      <td>2600</td>\n",
              "      <td>1983</td>\n",
              "      <td>Action</td>\n",
              "      <td>Parker Bros.</td>\n",
              "      <td>0.15</td>\n",
              "      <td>0.01</td>\n",
              "      <td>0.00</td>\n",
              "      <td>0.00</td>\n",
              "      <td>0.17</td>\n",
              "      <td>14034.005498</td>\n",
              "    </tr>\n",
              "  </tbody>\n",
              "</table>\n",
              "<p>12441 rows × 12 columns</p>\n",
              "</div>\n",
              "    <div class=\"colab-df-buttons\">\n",
              "\n",
              "  <div class=\"colab-df-container\">\n",
              "    <button class=\"colab-df-convert\" onclick=\"convertToInteractive('df-c0f33b49-51a3-4379-8194-c889f4006b37')\"\n",
              "            title=\"Convert this dataframe to an interactive table.\"\n",
              "            style=\"display:none;\">\n",
              "\n",
              "  <svg xmlns=\"http://www.w3.org/2000/svg\" height=\"24px\" viewBox=\"0 -960 960 960\">\n",
              "    <path d=\"M120-120v-720h720v720H120Zm60-500h600v-160H180v160Zm220 220h160v-160H400v160Zm0 220h160v-160H400v160ZM180-400h160v-160H180v160Zm440 0h160v-160H620v160ZM180-180h160v-160H180v160Zm440 0h160v-160H620v160Z\"/>\n",
              "  </svg>\n",
              "    </button>\n",
              "\n",
              "  <style>\n",
              "    .colab-df-container {\n",
              "      display:flex;\n",
              "      gap: 12px;\n",
              "    }\n",
              "\n",
              "    .colab-df-convert {\n",
              "      background-color: #E8F0FE;\n",
              "      border: none;\n",
              "      border-radius: 50%;\n",
              "      cursor: pointer;\n",
              "      display: none;\n",
              "      fill: #1967D2;\n",
              "      height: 32px;\n",
              "      padding: 0 0 0 0;\n",
              "      width: 32px;\n",
              "    }\n",
              "\n",
              "    .colab-df-convert:hover {\n",
              "      background-color: #E2EBFA;\n",
              "      box-shadow: 0px 1px 2px rgba(60, 64, 67, 0.3), 0px 1px 3px 1px rgba(60, 64, 67, 0.15);\n",
              "      fill: #174EA6;\n",
              "    }\n",
              "\n",
              "    .colab-df-buttons div {\n",
              "      margin-bottom: 4px;\n",
              "    }\n",
              "\n",
              "    [theme=dark] .colab-df-convert {\n",
              "      background-color: #3B4455;\n",
              "      fill: #D2E3FC;\n",
              "    }\n",
              "\n",
              "    [theme=dark] .colab-df-convert:hover {\n",
              "      background-color: #434B5C;\n",
              "      box-shadow: 0px 1px 3px 1px rgba(0, 0, 0, 0.15);\n",
              "      filter: drop-shadow(0px 1px 2px rgba(0, 0, 0, 0.3));\n",
              "      fill: #FFFFFF;\n",
              "    }\n",
              "  </style>\n",
              "\n",
              "    <script>\n",
              "      const buttonEl =\n",
              "        document.querySelector('#df-c0f33b49-51a3-4379-8194-c889f4006b37 button.colab-df-convert');\n",
              "      buttonEl.style.display =\n",
              "        google.colab.kernel.accessAllowed ? 'block' : 'none';\n",
              "\n",
              "      async function convertToInteractive(key) {\n",
              "        const element = document.querySelector('#df-c0f33b49-51a3-4379-8194-c889f4006b37');\n",
              "        const dataTable =\n",
              "          await google.colab.kernel.invokeFunction('convertToInteractive',\n",
              "                                                    [key], {});\n",
              "        if (!dataTable) return;\n",
              "\n",
              "        const docLinkHtml = 'Like what you see? Visit the ' +\n",
              "          '<a target=\"_blank\" href=https://colab.research.google.com/notebooks/data_table.ipynb>data table notebook</a>'\n",
              "          + ' to learn more about interactive tables.';\n",
              "        element.innerHTML = '';\n",
              "        dataTable['output_type'] = 'display_data';\n",
              "        await google.colab.output.renderOutput(dataTable, element);\n",
              "        const docLink = document.createElement('div');\n",
              "        docLink.innerHTML = docLinkHtml;\n",
              "        element.appendChild(docLink);\n",
              "      }\n",
              "    </script>\n",
              "  </div>\n",
              "\n",
              "\n",
              "<div id=\"df-385c3837-6f6d-45b8-ac0f-56b314170968\">\n",
              "  <button class=\"colab-df-quickchart\" onclick=\"quickchart('df-385c3837-6f6d-45b8-ac0f-56b314170968')\"\n",
              "            title=\"Suggest charts.\"\n",
              "            style=\"display:none;\">\n",
              "\n",
              "<svg xmlns=\"http://www.w3.org/2000/svg\" height=\"24px\"viewBox=\"0 0 24 24\"\n",
              "     width=\"24px\">\n",
              "    <g>\n",
              "        <path d=\"M19 3H5c-1.1 0-2 .9-2 2v14c0 1.1.9 2 2 2h14c1.1 0 2-.9 2-2V5c0-1.1-.9-2-2-2zM9 17H7v-7h2v7zm4 0h-2V7h2v10zm4 0h-2v-4h2v4z\"/>\n",
              "    </g>\n",
              "</svg>\n",
              "  </button>\n",
              "\n",
              "<style>\n",
              "  .colab-df-quickchart {\n",
              "      --bg-color: #E8F0FE;\n",
              "      --fill-color: #1967D2;\n",
              "      --hover-bg-color: #E2EBFA;\n",
              "      --hover-fill-color: #174EA6;\n",
              "      --disabled-fill-color: #AAA;\n",
              "      --disabled-bg-color: #DDD;\n",
              "  }\n",
              "\n",
              "  [theme=dark] .colab-df-quickchart {\n",
              "      --bg-color: #3B4455;\n",
              "      --fill-color: #D2E3FC;\n",
              "      --hover-bg-color: #434B5C;\n",
              "      --hover-fill-color: #FFFFFF;\n",
              "      --disabled-bg-color: #3B4455;\n",
              "      --disabled-fill-color: #666;\n",
              "  }\n",
              "\n",
              "  .colab-df-quickchart {\n",
              "    background-color: var(--bg-color);\n",
              "    border: none;\n",
              "    border-radius: 50%;\n",
              "    cursor: pointer;\n",
              "    display: none;\n",
              "    fill: var(--fill-color);\n",
              "    height: 32px;\n",
              "    padding: 0;\n",
              "    width: 32px;\n",
              "  }\n",
              "\n",
              "  .colab-df-quickchart:hover {\n",
              "    background-color: var(--hover-bg-color);\n",
              "    box-shadow: 0 1px 2px rgba(60, 64, 67, 0.3), 0 1px 3px 1px rgba(60, 64, 67, 0.15);\n",
              "    fill: var(--button-hover-fill-color);\n",
              "  }\n",
              "\n",
              "  .colab-df-quickchart-complete:disabled,\n",
              "  .colab-df-quickchart-complete:disabled:hover {\n",
              "    background-color: var(--disabled-bg-color);\n",
              "    fill: var(--disabled-fill-color);\n",
              "    box-shadow: none;\n",
              "  }\n",
              "\n",
              "  .colab-df-spinner {\n",
              "    border: 2px solid var(--fill-color);\n",
              "    border-color: transparent;\n",
              "    border-bottom-color: var(--fill-color);\n",
              "    animation:\n",
              "      spin 1s steps(1) infinite;\n",
              "  }\n",
              "\n",
              "  @keyframes spin {\n",
              "    0% {\n",
              "      border-color: transparent;\n",
              "      border-bottom-color: var(--fill-color);\n",
              "      border-left-color: var(--fill-color);\n",
              "    }\n",
              "    20% {\n",
              "      border-color: transparent;\n",
              "      border-left-color: var(--fill-color);\n",
              "      border-top-color: var(--fill-color);\n",
              "    }\n",
              "    30% {\n",
              "      border-color: transparent;\n",
              "      border-left-color: var(--fill-color);\n",
              "      border-top-color: var(--fill-color);\n",
              "      border-right-color: var(--fill-color);\n",
              "    }\n",
              "    40% {\n",
              "      border-color: transparent;\n",
              "      border-right-color: var(--fill-color);\n",
              "      border-top-color: var(--fill-color);\n",
              "    }\n",
              "    60% {\n",
              "      border-color: transparent;\n",
              "      border-right-color: var(--fill-color);\n",
              "    }\n",
              "    80% {\n",
              "      border-color: transparent;\n",
              "      border-right-color: var(--fill-color);\n",
              "      border-bottom-color: var(--fill-color);\n",
              "    }\n",
              "    90% {\n",
              "      border-color: transparent;\n",
              "      border-bottom-color: var(--fill-color);\n",
              "    }\n",
              "  }\n",
              "</style>\n",
              "\n",
              "  <script>\n",
              "    async function quickchart(key) {\n",
              "      const quickchartButtonEl =\n",
              "        document.querySelector('#' + key + ' button');\n",
              "      quickchartButtonEl.disabled = true;  // To prevent multiple clicks.\n",
              "      quickchartButtonEl.classList.add('colab-df-spinner');\n",
              "      try {\n",
              "        const charts = await google.colab.kernel.invokeFunction(\n",
              "            'suggestCharts', [key], {});\n",
              "      } catch (error) {\n",
              "        console.error('Error during call to suggestCharts:', error);\n",
              "      }\n",
              "      quickchartButtonEl.classList.remove('colab-df-spinner');\n",
              "      quickchartButtonEl.classList.add('colab-df-quickchart-complete');\n",
              "    }\n",
              "    (() => {\n",
              "      let quickchartButtonEl =\n",
              "        document.querySelector('#df-385c3837-6f6d-45b8-ac0f-56b314170968 button');\n",
              "      quickchartButtonEl.style.display =\n",
              "        google.colab.kernel.accessAllowed ? 'block' : 'none';\n",
              "    })();\n",
              "  </script>\n",
              "</div>\n",
              "    </div>\n",
              "  </div>\n"
            ]
          },
          "metadata": {},
          "execution_count": 195
        }
      ]
    },
    {
      "cell_type": "markdown",
      "source": [
        "Adding Japan's GDP"
      ],
      "metadata": {
        "id": "1QQPyxPdRu6C"
      }
    },
    {
      "cell_type": "code",
      "source": [
        "first_dataframe = first_dataframe.merge(second_dataframeJPN, on = \"Year\")"
      ],
      "metadata": {
        "id": "xdNzBdXaRyzq"
      },
      "execution_count": 196,
      "outputs": []
    },
    {
      "cell_type": "code",
      "source": [
        "first_dataframe = first_dataframe.drop(['Location'], axis = 1)"
      ],
      "metadata": {
        "id": "Nn8EA0MnR1Jy"
      },
      "execution_count": 197,
      "outputs": []
    },
    {
      "cell_type": "code",
      "source": [
        "first_dataframe.rename(columns = {'Value':'GDP_Canada'}, inplace = True)"
      ],
      "metadata": {
        "id": "GzSfWO8uSRH6"
      },
      "execution_count": 198,
      "outputs": []
    },
    {
      "cell_type": "markdown",
      "source": [
        "Adding USA's GDP"
      ],
      "metadata": {
        "id": "w4q7MA4qSVW6"
      }
    },
    {
      "cell_type": "code",
      "source": [
        "first_dataframe = first_dataframe.merge(second_dataframeUSA, on = \"Year\")"
      ],
      "metadata": {
        "id": "RcsoLS7QSZZM"
      },
      "execution_count": 199,
      "outputs": []
    },
    {
      "cell_type": "code",
      "source": [
        "first_dataframe = first_dataframe.drop(['Location'], axis = 1)"
      ],
      "metadata": {
        "id": "euaTUWxpScji"
      },
      "execution_count": 200,
      "outputs": []
    },
    {
      "cell_type": "code",
      "source": [
        "first_dataframe.rename(columns = {'Value':'GDP_USA'}, inplace = True)"
      ],
      "metadata": {
        "id": "ll5pqjKNSd7a"
      },
      "execution_count": 201,
      "outputs": []
    },
    {
      "cell_type": "markdown",
      "source": [
        "Adding Mexico's GDP"
      ],
      "metadata": {
        "id": "T7vB4dN9SoND"
      }
    },
    {
      "cell_type": "code",
      "source": [
        "first_dataframe = first_dataframe.merge(second_dataframeMEX, on = \"Year\")"
      ],
      "metadata": {
        "id": "MGu6hBPTSsTk"
      },
      "execution_count": 202,
      "outputs": []
    },
    {
      "cell_type": "code",
      "source": [
        "first_dataframe = first_dataframe.drop(['Location'], axis = 1)"
      ],
      "metadata": {
        "id": "TORUFfrESuUy"
      },
      "execution_count": 203,
      "outputs": []
    },
    {
      "cell_type": "code",
      "source": [
        "first_dataframe.rename(columns = {'Value':'GDP_Mexico'}, inplace = True)"
      ],
      "metadata": {
        "id": "mHDM6LqUSwGT"
      },
      "execution_count": 204,
      "outputs": []
    },
    {
      "cell_type": "code",
      "source": [
        "Merged_dataframe = first_dataframe"
      ],
      "metadata": {
        "id": "xUYkAfFNS0IE"
      },
      "execution_count": 205,
      "outputs": []
    },
    {
      "cell_type": "code",
      "source": [
        "Merged_dataframe"
      ],
      "metadata": {
        "colab": {
          "base_uri": "https://localhost:8080/",
          "height": 493
        },
        "id": "Yhdxvy8NXc0E",
        "outputId": "68f6f41e-9f52-42d8-8351-4cc42ce8056c"
      },
      "execution_count": 206,
      "outputs": [
        {
          "output_type": "execute_result",
          "data": {
            "text/plain": [
              "       Rank                                    Name Platform  Year  \\\n",
              "0         1                              Wii Sports      Wii  2006   \n",
              "1         7                   New Super Mario Bros.       DS  2006   \n",
              "2         8                                Wii Play      Wii  2006   \n",
              "3        21           Pokemon Diamond/Pokemon Pearl       DS  2006   \n",
              "4       101  The Legend of Zelda: Twilight Princess      Wii  2006   \n",
              "...     ...                                     ...      ...   ...   \n",
              "12436  4782                                   Pengo     2600  1983   \n",
              "12437  5384                               Frostbite     2600  1983   \n",
              "12438  5561                 Frogger II: Threeedeep!     2600  1983   \n",
              "12439  6009                                 Dolphin     2600  1983   \n",
              "12440  8459                        Mr. Do!'s Castle     2600  1983   \n",
              "\n",
              "              Genre     Publisher  NA_Sales  EU_Sales  JP_Sales  Other_Sales  \\\n",
              "0            Sports      Nintendo     41.49     29.02      3.77         8.46   \n",
              "1          Platform      Nintendo     11.38      9.23      6.50         2.90   \n",
              "2              Misc      Nintendo     14.03      9.20      2.93         2.85   \n",
              "3      Role-Playing      Nintendo      6.42      4.52      6.04         1.37   \n",
              "4            Action      Nintendo      3.83      2.19      0.60         0.70   \n",
              "...             ...           ...       ...       ...       ...          ...   \n",
              "12436     Adventure         Atari      0.38      0.02      0.00         0.00   \n",
              "12437        Action    Activision      0.32      0.02      0.00         0.00   \n",
              "12438        Action  Parker Bros.      0.31      0.02      0.00         0.00   \n",
              "12439        Action    Activision      0.27      0.02      0.00         0.00   \n",
              "12440        Action  Parker Bros.      0.15      0.01      0.00         0.00   \n",
              "\n",
              "       Global_Sales     GDP_Japan    GDP_Canada       GDP_USA    GDP_Mexico  \n",
              "0             82.74  38120.176792  33638.841255  46234.105710  13725.383603  \n",
              "1             30.01  38120.176792  33638.841255  46234.105710  13725.383603  \n",
              "2             29.02  38120.176792  33638.841255  46234.105710  13725.383603  \n",
              "3             18.36  38120.176792  33638.841255  46234.105710  13725.383603  \n",
              "4              7.31  38120.176792  33638.841255  46234.105710  13725.383603  \n",
              "...             ...           ...           ...           ...           ...  \n",
              "12436          0.40  14034.005498  12098.354701  15508.007835   5757.163420  \n",
              "12437          0.34  14034.005498  12098.354701  15508.007835   5757.163420  \n",
              "12438          0.33  14034.005498  12098.354701  15508.007835   5757.163420  \n",
              "12439          0.29  14034.005498  12098.354701  15508.007835   5757.163420  \n",
              "12440          0.17  14034.005498  12098.354701  15508.007835   5757.163420  \n",
              "\n",
              "[12441 rows x 15 columns]"
            ],
            "text/html": [
              "\n",
              "  <div id=\"df-40f74a65-5282-4e66-b721-44073d0b7bd7\" class=\"colab-df-container\">\n",
              "    <div>\n",
              "<style scoped>\n",
              "    .dataframe tbody tr th:only-of-type {\n",
              "        vertical-align: middle;\n",
              "    }\n",
              "\n",
              "    .dataframe tbody tr th {\n",
              "        vertical-align: top;\n",
              "    }\n",
              "\n",
              "    .dataframe thead th {\n",
              "        text-align: right;\n",
              "    }\n",
              "</style>\n",
              "<table border=\"1\" class=\"dataframe\">\n",
              "  <thead>\n",
              "    <tr style=\"text-align: right;\">\n",
              "      <th></th>\n",
              "      <th>Rank</th>\n",
              "      <th>Name</th>\n",
              "      <th>Platform</th>\n",
              "      <th>Year</th>\n",
              "      <th>Genre</th>\n",
              "      <th>Publisher</th>\n",
              "      <th>NA_Sales</th>\n",
              "      <th>EU_Sales</th>\n",
              "      <th>JP_Sales</th>\n",
              "      <th>Other_Sales</th>\n",
              "      <th>Global_Sales</th>\n",
              "      <th>GDP_Japan</th>\n",
              "      <th>GDP_Canada</th>\n",
              "      <th>GDP_USA</th>\n",
              "      <th>GDP_Mexico</th>\n",
              "    </tr>\n",
              "  </thead>\n",
              "  <tbody>\n",
              "    <tr>\n",
              "      <th>0</th>\n",
              "      <td>1</td>\n",
              "      <td>Wii Sports</td>\n",
              "      <td>Wii</td>\n",
              "      <td>2006</td>\n",
              "      <td>Sports</td>\n",
              "      <td>Nintendo</td>\n",
              "      <td>41.49</td>\n",
              "      <td>29.02</td>\n",
              "      <td>3.77</td>\n",
              "      <td>8.46</td>\n",
              "      <td>82.74</td>\n",
              "      <td>38120.176792</td>\n",
              "      <td>33638.841255</td>\n",
              "      <td>46234.105710</td>\n",
              "      <td>13725.383603</td>\n",
              "    </tr>\n",
              "    <tr>\n",
              "      <th>1</th>\n",
              "      <td>7</td>\n",
              "      <td>New Super Mario Bros.</td>\n",
              "      <td>DS</td>\n",
              "      <td>2006</td>\n",
              "      <td>Platform</td>\n",
              "      <td>Nintendo</td>\n",
              "      <td>11.38</td>\n",
              "      <td>9.23</td>\n",
              "      <td>6.50</td>\n",
              "      <td>2.90</td>\n",
              "      <td>30.01</td>\n",
              "      <td>38120.176792</td>\n",
              "      <td>33638.841255</td>\n",
              "      <td>46234.105710</td>\n",
              "      <td>13725.383603</td>\n",
              "    </tr>\n",
              "    <tr>\n",
              "      <th>2</th>\n",
              "      <td>8</td>\n",
              "      <td>Wii Play</td>\n",
              "      <td>Wii</td>\n",
              "      <td>2006</td>\n",
              "      <td>Misc</td>\n",
              "      <td>Nintendo</td>\n",
              "      <td>14.03</td>\n",
              "      <td>9.20</td>\n",
              "      <td>2.93</td>\n",
              "      <td>2.85</td>\n",
              "      <td>29.02</td>\n",
              "      <td>38120.176792</td>\n",
              "      <td>33638.841255</td>\n",
              "      <td>46234.105710</td>\n",
              "      <td>13725.383603</td>\n",
              "    </tr>\n",
              "    <tr>\n",
              "      <th>3</th>\n",
              "      <td>21</td>\n",
              "      <td>Pokemon Diamond/Pokemon Pearl</td>\n",
              "      <td>DS</td>\n",
              "      <td>2006</td>\n",
              "      <td>Role-Playing</td>\n",
              "      <td>Nintendo</td>\n",
              "      <td>6.42</td>\n",
              "      <td>4.52</td>\n",
              "      <td>6.04</td>\n",
              "      <td>1.37</td>\n",
              "      <td>18.36</td>\n",
              "      <td>38120.176792</td>\n",
              "      <td>33638.841255</td>\n",
              "      <td>46234.105710</td>\n",
              "      <td>13725.383603</td>\n",
              "    </tr>\n",
              "    <tr>\n",
              "      <th>4</th>\n",
              "      <td>101</td>\n",
              "      <td>The Legend of Zelda: Twilight Princess</td>\n",
              "      <td>Wii</td>\n",
              "      <td>2006</td>\n",
              "      <td>Action</td>\n",
              "      <td>Nintendo</td>\n",
              "      <td>3.83</td>\n",
              "      <td>2.19</td>\n",
              "      <td>0.60</td>\n",
              "      <td>0.70</td>\n",
              "      <td>7.31</td>\n",
              "      <td>38120.176792</td>\n",
              "      <td>33638.841255</td>\n",
              "      <td>46234.105710</td>\n",
              "      <td>13725.383603</td>\n",
              "    </tr>\n",
              "    <tr>\n",
              "      <th>...</th>\n",
              "      <td>...</td>\n",
              "      <td>...</td>\n",
              "      <td>...</td>\n",
              "      <td>...</td>\n",
              "      <td>...</td>\n",
              "      <td>...</td>\n",
              "      <td>...</td>\n",
              "      <td>...</td>\n",
              "      <td>...</td>\n",
              "      <td>...</td>\n",
              "      <td>...</td>\n",
              "      <td>...</td>\n",
              "      <td>...</td>\n",
              "      <td>...</td>\n",
              "      <td>...</td>\n",
              "    </tr>\n",
              "    <tr>\n",
              "      <th>12436</th>\n",
              "      <td>4782</td>\n",
              "      <td>Pengo</td>\n",
              "      <td>2600</td>\n",
              "      <td>1983</td>\n",
              "      <td>Adventure</td>\n",
              "      <td>Atari</td>\n",
              "      <td>0.38</td>\n",
              "      <td>0.02</td>\n",
              "      <td>0.00</td>\n",
              "      <td>0.00</td>\n",
              "      <td>0.40</td>\n",
              "      <td>14034.005498</td>\n",
              "      <td>12098.354701</td>\n",
              "      <td>15508.007835</td>\n",
              "      <td>5757.163420</td>\n",
              "    </tr>\n",
              "    <tr>\n",
              "      <th>12437</th>\n",
              "      <td>5384</td>\n",
              "      <td>Frostbite</td>\n",
              "      <td>2600</td>\n",
              "      <td>1983</td>\n",
              "      <td>Action</td>\n",
              "      <td>Activision</td>\n",
              "      <td>0.32</td>\n",
              "      <td>0.02</td>\n",
              "      <td>0.00</td>\n",
              "      <td>0.00</td>\n",
              "      <td>0.34</td>\n",
              "      <td>14034.005498</td>\n",
              "      <td>12098.354701</td>\n",
              "      <td>15508.007835</td>\n",
              "      <td>5757.163420</td>\n",
              "    </tr>\n",
              "    <tr>\n",
              "      <th>12438</th>\n",
              "      <td>5561</td>\n",
              "      <td>Frogger II: Threeedeep!</td>\n",
              "      <td>2600</td>\n",
              "      <td>1983</td>\n",
              "      <td>Action</td>\n",
              "      <td>Parker Bros.</td>\n",
              "      <td>0.31</td>\n",
              "      <td>0.02</td>\n",
              "      <td>0.00</td>\n",
              "      <td>0.00</td>\n",
              "      <td>0.33</td>\n",
              "      <td>14034.005498</td>\n",
              "      <td>12098.354701</td>\n",
              "      <td>15508.007835</td>\n",
              "      <td>5757.163420</td>\n",
              "    </tr>\n",
              "    <tr>\n",
              "      <th>12439</th>\n",
              "      <td>6009</td>\n",
              "      <td>Dolphin</td>\n",
              "      <td>2600</td>\n",
              "      <td>1983</td>\n",
              "      <td>Action</td>\n",
              "      <td>Activision</td>\n",
              "      <td>0.27</td>\n",
              "      <td>0.02</td>\n",
              "      <td>0.00</td>\n",
              "      <td>0.00</td>\n",
              "      <td>0.29</td>\n",
              "      <td>14034.005498</td>\n",
              "      <td>12098.354701</td>\n",
              "      <td>15508.007835</td>\n",
              "      <td>5757.163420</td>\n",
              "    </tr>\n",
              "    <tr>\n",
              "      <th>12440</th>\n",
              "      <td>8459</td>\n",
              "      <td>Mr. Do!'s Castle</td>\n",
              "      <td>2600</td>\n",
              "      <td>1983</td>\n",
              "      <td>Action</td>\n",
              "      <td>Parker Bros.</td>\n",
              "      <td>0.15</td>\n",
              "      <td>0.01</td>\n",
              "      <td>0.00</td>\n",
              "      <td>0.00</td>\n",
              "      <td>0.17</td>\n",
              "      <td>14034.005498</td>\n",
              "      <td>12098.354701</td>\n",
              "      <td>15508.007835</td>\n",
              "      <td>5757.163420</td>\n",
              "    </tr>\n",
              "  </tbody>\n",
              "</table>\n",
              "<p>12441 rows × 15 columns</p>\n",
              "</div>\n",
              "    <div class=\"colab-df-buttons\">\n",
              "\n",
              "  <div class=\"colab-df-container\">\n",
              "    <button class=\"colab-df-convert\" onclick=\"convertToInteractive('df-40f74a65-5282-4e66-b721-44073d0b7bd7')\"\n",
              "            title=\"Convert this dataframe to an interactive table.\"\n",
              "            style=\"display:none;\">\n",
              "\n",
              "  <svg xmlns=\"http://www.w3.org/2000/svg\" height=\"24px\" viewBox=\"0 -960 960 960\">\n",
              "    <path d=\"M120-120v-720h720v720H120Zm60-500h600v-160H180v160Zm220 220h160v-160H400v160Zm0 220h160v-160H400v160ZM180-400h160v-160H180v160Zm440 0h160v-160H620v160ZM180-180h160v-160H180v160Zm440 0h160v-160H620v160Z\"/>\n",
              "  </svg>\n",
              "    </button>\n",
              "\n",
              "  <style>\n",
              "    .colab-df-container {\n",
              "      display:flex;\n",
              "      gap: 12px;\n",
              "    }\n",
              "\n",
              "    .colab-df-convert {\n",
              "      background-color: #E8F0FE;\n",
              "      border: none;\n",
              "      border-radius: 50%;\n",
              "      cursor: pointer;\n",
              "      display: none;\n",
              "      fill: #1967D2;\n",
              "      height: 32px;\n",
              "      padding: 0 0 0 0;\n",
              "      width: 32px;\n",
              "    }\n",
              "\n",
              "    .colab-df-convert:hover {\n",
              "      background-color: #E2EBFA;\n",
              "      box-shadow: 0px 1px 2px rgba(60, 64, 67, 0.3), 0px 1px 3px 1px rgba(60, 64, 67, 0.15);\n",
              "      fill: #174EA6;\n",
              "    }\n",
              "\n",
              "    .colab-df-buttons div {\n",
              "      margin-bottom: 4px;\n",
              "    }\n",
              "\n",
              "    [theme=dark] .colab-df-convert {\n",
              "      background-color: #3B4455;\n",
              "      fill: #D2E3FC;\n",
              "    }\n",
              "\n",
              "    [theme=dark] .colab-df-convert:hover {\n",
              "      background-color: #434B5C;\n",
              "      box-shadow: 0px 1px 3px 1px rgba(0, 0, 0, 0.15);\n",
              "      filter: drop-shadow(0px 1px 2px rgba(0, 0, 0, 0.3));\n",
              "      fill: #FFFFFF;\n",
              "    }\n",
              "  </style>\n",
              "\n",
              "    <script>\n",
              "      const buttonEl =\n",
              "        document.querySelector('#df-40f74a65-5282-4e66-b721-44073d0b7bd7 button.colab-df-convert');\n",
              "      buttonEl.style.display =\n",
              "        google.colab.kernel.accessAllowed ? 'block' : 'none';\n",
              "\n",
              "      async function convertToInteractive(key) {\n",
              "        const element = document.querySelector('#df-40f74a65-5282-4e66-b721-44073d0b7bd7');\n",
              "        const dataTable =\n",
              "          await google.colab.kernel.invokeFunction('convertToInteractive',\n",
              "                                                    [key], {});\n",
              "        if (!dataTable) return;\n",
              "\n",
              "        const docLinkHtml = 'Like what you see? Visit the ' +\n",
              "          '<a target=\"_blank\" href=https://colab.research.google.com/notebooks/data_table.ipynb>data table notebook</a>'\n",
              "          + ' to learn more about interactive tables.';\n",
              "        element.innerHTML = '';\n",
              "        dataTable['output_type'] = 'display_data';\n",
              "        await google.colab.output.renderOutput(dataTable, element);\n",
              "        const docLink = document.createElement('div');\n",
              "        docLink.innerHTML = docLinkHtml;\n",
              "        element.appendChild(docLink);\n",
              "      }\n",
              "    </script>\n",
              "  </div>\n",
              "\n",
              "\n",
              "<div id=\"df-560510f8-41fa-4a82-8945-cfbc7c12e3c6\">\n",
              "  <button class=\"colab-df-quickchart\" onclick=\"quickchart('df-560510f8-41fa-4a82-8945-cfbc7c12e3c6')\"\n",
              "            title=\"Suggest charts.\"\n",
              "            style=\"display:none;\">\n",
              "\n",
              "<svg xmlns=\"http://www.w3.org/2000/svg\" height=\"24px\"viewBox=\"0 0 24 24\"\n",
              "     width=\"24px\">\n",
              "    <g>\n",
              "        <path d=\"M19 3H5c-1.1 0-2 .9-2 2v14c0 1.1.9 2 2 2h14c1.1 0 2-.9 2-2V5c0-1.1-.9-2-2-2zM9 17H7v-7h2v7zm4 0h-2V7h2v10zm4 0h-2v-4h2v4z\"/>\n",
              "    </g>\n",
              "</svg>\n",
              "  </button>\n",
              "\n",
              "<style>\n",
              "  .colab-df-quickchart {\n",
              "      --bg-color: #E8F0FE;\n",
              "      --fill-color: #1967D2;\n",
              "      --hover-bg-color: #E2EBFA;\n",
              "      --hover-fill-color: #174EA6;\n",
              "      --disabled-fill-color: #AAA;\n",
              "      --disabled-bg-color: #DDD;\n",
              "  }\n",
              "\n",
              "  [theme=dark] .colab-df-quickchart {\n",
              "      --bg-color: #3B4455;\n",
              "      --fill-color: #D2E3FC;\n",
              "      --hover-bg-color: #434B5C;\n",
              "      --hover-fill-color: #FFFFFF;\n",
              "      --disabled-bg-color: #3B4455;\n",
              "      --disabled-fill-color: #666;\n",
              "  }\n",
              "\n",
              "  .colab-df-quickchart {\n",
              "    background-color: var(--bg-color);\n",
              "    border: none;\n",
              "    border-radius: 50%;\n",
              "    cursor: pointer;\n",
              "    display: none;\n",
              "    fill: var(--fill-color);\n",
              "    height: 32px;\n",
              "    padding: 0;\n",
              "    width: 32px;\n",
              "  }\n",
              "\n",
              "  .colab-df-quickchart:hover {\n",
              "    background-color: var(--hover-bg-color);\n",
              "    box-shadow: 0 1px 2px rgba(60, 64, 67, 0.3), 0 1px 3px 1px rgba(60, 64, 67, 0.15);\n",
              "    fill: var(--button-hover-fill-color);\n",
              "  }\n",
              "\n",
              "  .colab-df-quickchart-complete:disabled,\n",
              "  .colab-df-quickchart-complete:disabled:hover {\n",
              "    background-color: var(--disabled-bg-color);\n",
              "    fill: var(--disabled-fill-color);\n",
              "    box-shadow: none;\n",
              "  }\n",
              "\n",
              "  .colab-df-spinner {\n",
              "    border: 2px solid var(--fill-color);\n",
              "    border-color: transparent;\n",
              "    border-bottom-color: var(--fill-color);\n",
              "    animation:\n",
              "      spin 1s steps(1) infinite;\n",
              "  }\n",
              "\n",
              "  @keyframes spin {\n",
              "    0% {\n",
              "      border-color: transparent;\n",
              "      border-bottom-color: var(--fill-color);\n",
              "      border-left-color: var(--fill-color);\n",
              "    }\n",
              "    20% {\n",
              "      border-color: transparent;\n",
              "      border-left-color: var(--fill-color);\n",
              "      border-top-color: var(--fill-color);\n",
              "    }\n",
              "    30% {\n",
              "      border-color: transparent;\n",
              "      border-left-color: var(--fill-color);\n",
              "      border-top-color: var(--fill-color);\n",
              "      border-right-color: var(--fill-color);\n",
              "    }\n",
              "    40% {\n",
              "      border-color: transparent;\n",
              "      border-right-color: var(--fill-color);\n",
              "      border-top-color: var(--fill-color);\n",
              "    }\n",
              "    60% {\n",
              "      border-color: transparent;\n",
              "      border-right-color: var(--fill-color);\n",
              "    }\n",
              "    80% {\n",
              "      border-color: transparent;\n",
              "      border-right-color: var(--fill-color);\n",
              "      border-bottom-color: var(--fill-color);\n",
              "    }\n",
              "    90% {\n",
              "      border-color: transparent;\n",
              "      border-bottom-color: var(--fill-color);\n",
              "    }\n",
              "  }\n",
              "</style>\n",
              "\n",
              "  <script>\n",
              "    async function quickchart(key) {\n",
              "      const quickchartButtonEl =\n",
              "        document.querySelector('#' + key + ' button');\n",
              "      quickchartButtonEl.disabled = true;  // To prevent multiple clicks.\n",
              "      quickchartButtonEl.classList.add('colab-df-spinner');\n",
              "      try {\n",
              "        const charts = await google.colab.kernel.invokeFunction(\n",
              "            'suggestCharts', [key], {});\n",
              "      } catch (error) {\n",
              "        console.error('Error during call to suggestCharts:', error);\n",
              "      }\n",
              "      quickchartButtonEl.classList.remove('colab-df-spinner');\n",
              "      quickchartButtonEl.classList.add('colab-df-quickchart-complete');\n",
              "    }\n",
              "    (() => {\n",
              "      let quickchartButtonEl =\n",
              "        document.querySelector('#df-560510f8-41fa-4a82-8945-cfbc7c12e3c6 button');\n",
              "      quickchartButtonEl.style.display =\n",
              "        google.colab.kernel.accessAllowed ? 'block' : 'none';\n",
              "    })();\n",
              "  </script>\n",
              "</div>\n",
              "    </div>\n",
              "  </div>\n"
            ]
          },
          "metadata": {},
          "execution_count": 206
        }
      ]
    },
    {
      "cell_type": "markdown",
      "source": [
        "Visualisations"
      ],
      "metadata": {
        "id": "mDkrpKIWYEC9"
      }
    },
    {
      "cell_type": "markdown",
      "source": [
        "\n",
        "The amount of games under the dataset, the games are relatively well balanced"
      ],
      "metadata": {
        "id": "60XA29G98I9k"
      }
    },
    {
      "cell_type": "code",
      "source": [
        "sumByPlatform = Merged_dataframe.groupby([\"Platform\"], sort=True).count()\n",
        "top10 = sumByPlatform.sort_values(\"Rank\",  ascending= False).head(10)\n",
        "top10.iloc[:,1].plot.pie(subplots= True)\n",
        "plt.ylabel(\"Platform\")\n",
        "plt.title(\"Amount of games by platform\")\n"
      ],
      "metadata": {
        "colab": {
          "base_uri": "https://localhost:8080/",
          "height": 445
        },
        "id": "Yf9EdR1t8OB9",
        "outputId": "62fea501-4cc9-4cd7-b751-e6b48f74e162"
      },
      "execution_count": 207,
      "outputs": [
        {
          "output_type": "execute_result",
          "data": {
            "text/plain": [
              "Text(0.5, 1.0, 'Amount of games by platform')"
            ]
          },
          "metadata": {},
          "execution_count": 207
        },
        {
          "output_type": "display_data",
          "data": {
            "text/plain": [
              "<Figure size 640x480 with 1 Axes>"
            ],
            "image/png": "[encoded data removed]"
          },
          "metadata": {}
        }
      ]
    },
    {
      "cell_type": "markdown",
      "source": [
        "1. Top 10 most sold games"
      ],
      "metadata": {
        "id": "hJQC4iKHYFUF"
      }
    },
    {
      "cell_type": "code",
      "source": [
        "maxbyPlatform = Merged_dataframe.groupby([\"Name\"], sort=False)['Global_Sales'].max()\n",
        "sortedMax = maxbyPlatform.sort_values(ascending = False)\n",
        "top10 = sortedMax.head(10)\n",
        "top10.plot.barh();\n",
        "plt.title(\"Top 10 games\")\n",
        "plt.ylabel(\"Name\")\n",
        "plt.xlabel(\"Sales in millions\")\n",
        "plt.grid(linewidth = 0.4)"
      ],
      "metadata": {
        "colab": {
          "base_uri": "https://localhost:8080/",
          "height": 472
        },
        "id": "6eR3FOtjYWzn",
        "outputId": "c418f04a-5a4d-44c7-db80-95bb4f33cb19"
      },
      "execution_count": 208,
      "outputs": [
        {
          "output_type": "display_data",
          "data": {
            "text/plain": [
              "<Figure size 640x480 with 1 Axes>"
            ],
            "image/png": "[encoded data removed]"
          },
          "metadata": {}
        }
      ]
    },
    {
      "cell_type": "markdown",
      "source": [
        "Most sold game is Wii Sports"
      ],
      "metadata": {
        "id": "WlRLBDrnY8lV"
      }
    },
    {
      "cell_type": "markdown",
      "source": [
        "2. Most popular platforms"
      ],
      "metadata": {
        "id": "9163s8WxZPD-"
      }
    },
    {
      "cell_type": "code",
      "source": [
        "sumPlatforms = Merged_dataframe.groupby([\"Platform\"], sort=False)['Global_Sales'].sum()\n",
        "sortedSum = sumPlatforms.sort_values(ascending = False)\n",
        "sorted7 = sortedSum.head(7)\n",
        "sorted7.plot.bar()\n",
        "plt.title(\"Platforms with most selling\")\n",
        "plt.ylabel(\"Selling in millions\")\n",
        "plt.xlabel(\"Platform\")\n",
        "plt.grid(linewidth = 0.4)"
      ],
      "metadata": {
        "colab": {
          "base_uri": "https://localhost:8080/",
          "height": 494
        },
        "id": "vG1YhVQQegTu",
        "outputId": "5480675b-17ec-4acd-8688-2fc32b3a5bf5"
      },
      "execution_count": 209,
      "outputs": [
        {
          "output_type": "display_data",
          "data": {
            "text/plain": [
              "<Figure size 640x480 with 1 Axes>"
            ],
            "image/png": "[encoded data removed]"
          },
          "metadata": {}
        }
      ]
    },
    {
      "cell_type": "markdown",
      "source": [
        "\n",
        "The best selling games are Playstation 2 games with even more than 1200 million in total sales."
      ],
      "metadata": {
        "id": "G6VW82pqitK_"
      }
    },
    {
      "cell_type": "markdown",
      "source": [
        "3. Most popular genres"
      ],
      "metadata": {
        "id": "bVNEtuNrkT7Q"
      }
    },
    {
      "cell_type": "code",
      "source": [
        "sumaGenre = Merged_dataframe.groupby([\"Genre\"], sort=False)['Global_Sales'].sum()\n",
        "sortedGenre = sumaGenre.sort_values(ascending = False)\n",
        "sorted7 = sortedGenre.head(7)\n",
        "sorted7.plot.barh()\n",
        "plt.title(\"Sales in millions\")\n",
        "plt.ylabel(\"Genres with most selling\")\n",
        "plt.xlabel(\"Sales in millions\")\n",
        "plt.grid(linewidth = 0.4)"
      ],
      "metadata": {
        "colab": {
          "base_uri": "https://localhost:8080/",
          "height": 472
        },
        "id": "cJTd0Kt5ka3x",
        "outputId": "b7f0dcfa-0e87-40b8-dda6-ffb0798bcab3"
      },
      "execution_count": 210,
      "outputs": [
        {
          "output_type": "display_data",
          "data": {
            "text/plain": [
              "<Figure size 640x480 with 1 Axes>"
            ],
            "image/png": "[encoded data removed]"
          },
          "metadata": {}
        }
      ]
    },
    {
      "cell_type": "markdown",
      "source": [
        "Action games are by far the best sellers, followed by sports games and platformers"
      ],
      "metadata": {
        "id": "agKGfPG5kwMc"
      }
    },
    {
      "cell_type": "markdown",
      "source": [
        "4. Top 10 publishers in the world"
      ],
      "metadata": {
        "id": "dTYPPoEpldxy"
      }
    },
    {
      "cell_type": "code",
      "source": [
        "sumPublisher = Merged_dataframe.groupby([\"Publisher\"], sort=False)['Global_Sales'].sum()\n",
        "sortedPublisher = sumPublisher.sort_values(ascending = False)\n",
        "sorted10 = sortedPublisher.head(10)\n",
        "sorted10.plot.barh()\n",
        "plt.title(\"Sales in millions\")\n",
        "plt.ylabel(\"Total sales of all publishers\")\n",
        "plt.xlabel(\"Publisher\")\n",
        "plt.grid(linewidth = 0.4)"
      ],
      "metadata": {
        "colab": {
          "base_uri": "https://localhost:8080/",
          "height": 472
        },
        "id": "wVCsCrN8lkjn",
        "outputId": "c340f201-0a9c-4707-9dc3-1220ccf9b511"
      },
      "execution_count": 211,
      "outputs": [
        {
          "output_type": "display_data",
          "data": {
            "text/plain": [
              "<Figure size 640x480 with 1 Axes>"
            ],
            "image/png": "[encoded data removed]"
          },
          "metadata": {}
        }
      ]
    },
    {
      "cell_type": "markdown",
      "source": [
        "\n",
        "Nintendo leads convincingly."
      ],
      "metadata": {
        "id": "wVmCxtSsq6bx"
      }
    },
    {
      "cell_type": "markdown",
      "source": [
        "5. Comparison of sales in North America and Japan by year"
      ],
      "metadata": {
        "id": "mqZs8I5isvZ5"
      }
    },
    {
      "cell_type": "code",
      "source": [
        "salesNA = Merged_dataframe.groupby([\"Year\"], sort = True)['NA_Sales'].sum()\n",
        "salesJAP = Merged_dataframe.groupby([\"Year\"], sort = True)['JP_Sales'].sum()\n",
        "\n",
        "fig, ax = plt.subplots()\n",
        "\n",
        "ax.plot(salesNA, color = 'green', label = \"Sales in North America\")\n",
        "ax.plot(salesJAP, color = 'red', label = \"Sales in Japan\")\n",
        "ax.legend(loc = 'upper left')\n",
        "plt.grid(linewidth = 0.4)\n",
        "plt.show()"
      ],
      "metadata": {
        "colab": {
          "base_uri": "https://localhost:8080/",
          "height": 430
        },
        "id": "c1-tVA2QtHnR",
        "outputId": "8919d60c-048f-49b4-9254-9895bc92cd79"
      },
      "execution_count": 212,
      "outputs": [
        {
          "output_type": "display_data",
          "data": {
            "text/plain": [
              "<Figure size 640x480 with 1 Axes>"
            ],
            "image/png": "[encoded data removed]"
          },
          "metadata": {}
        }
      ]
    },
    {
      "cell_type": "markdown",
      "source": [
        "Visible decline after 2007, especially in North America, in Japan there is no visible decline, but there is no increase either."
      ],
      "metadata": {
        "id": "B1U__K8i1ueE"
      }
    },
    {
      "cell_type": "markdown",
      "source": [
        "6.  Comparison of GDP of all analyzed countries"
      ],
      "metadata": {
        "id": "24-jymKmwLgS"
      }
    },
    {
      "cell_type": "code",
      "source": [
        "GDP_byYearJapan = Merged_dataframe.groupby([\"Year\"], sort = True)['GDP_Japan'].max()\n",
        "GDP_byYearUSA = Merged_dataframe.groupby([\"Year\"], sort = True)['GDP_USA'].max()\n",
        "GDP_byYearCanada = Merged_dataframe.groupby([\"Year\"], sort = True)['GDP_Canada'].max()\n",
        "GDP_byYearMexico = Merged_dataframe.groupby([\"Year\"], sort = True)['GDP_Mexico'].max()\n"
      ],
      "metadata": {
        "id": "u_c3GkInvrty"
      },
      "execution_count": 213,
      "outputs": []
    },
    {
      "cell_type": "code",
      "source": [
        "fig, ax = plt.subplots()\n",
        "\n",
        "ax.plot(GDP_byYearJapan, color = 'green', label = \"GDP Japan\")\n",
        "ax.plot(GDP_byYearUSA, color = 'blue', label = \"GDP USA\")\n",
        "ax.plot(GDP_byYearCanada, color = 'red', label = \"GDP Canada\")\n",
        "ax.plot(GDP_byYearMexico, color = 'orange', label = \"GDP Mexico\")\n",
        "ax.legend(loc = 'upper left')\n",
        "plt.title(\"Comparison of GDP\")\n",
        "plt.grid(linewidth = 0.4)\n",
        "plt.show()"
      ],
      "metadata": {
        "colab": {
          "base_uri": "https://localhost:8080/",
          "height": 452
        },
        "id": "U6KZdvzMyK2r",
        "outputId": "d4cd56c9-db59-44d8-c572-1e8c5f0f26e8"
      },
      "execution_count": 214,
      "outputs": [
        {
          "output_type": "display_data",
          "data": {
            "text/plain": [
              "<Figure size 640x480 with 1 Axes>"
            ],
            "image/png": "[encoded data removed]"
          },
          "metadata": {}
        }
      ]
    },
    {
      "cell_type": "markdown",
      "source": [
        "Also a visible decline after ~ 2007. Assumption - World financial crisis after 2007"
      ],
      "metadata": {
        "id": "oXg2AS49z_Oq"
      }
    },
    {
      "cell_type": "markdown",
      "source": [
        "7. How much did the crisis affect sales in Europe?"
      ],
      "metadata": {
        "id": "p8oPT7V92nwz"
      }
    },
    {
      "cell_type": "code",
      "source": [
        "salesEU = Merged_dataframe.groupby([\"Year\"], sort = True)['EU_Sales'].sum()"
      ],
      "metadata": {
        "id": "vX4_Qzc-2wUj"
      },
      "execution_count": 215,
      "outputs": []
    },
    {
      "cell_type": "code",
      "source": [
        "salesEU.plot()\n",
        "plt.ylabel(\"Sales in millions\")\n",
        "plt.xlabel(\"Year\")\n",
        "plt.title(\"Sales in Europe\")\n",
        "plt.grid(linewidth = 0.4)"
      ],
      "metadata": {
        "colab": {
          "base_uri": "https://localhost:8080/",
          "height": 472
        },
        "id": "awJEGZvj20wb",
        "outputId": "842302bb-ea7b-431f-a112-e7dda9455247"
      },
      "execution_count": 216,
      "outputs": [
        {
          "output_type": "display_data",
          "data": {
            "text/plain": [
              "<Figure size 640x480 with 1 Axes>"
            ],
            "image/png": "[encoded data removed]"
          },
          "metadata": {}
        }
      ]
    },
    {
      "cell_type": "markdown",
      "source": [
        "A slight decline is visible after 2009\n"
      ],
      "metadata": {
        "id": "34xLJa5_3O3D"
      }
    },
    {
      "cell_type": "markdown",
      "source": [
        "8. Comparison of Europe with North America and Japan"
      ],
      "metadata": {
        "id": "nZBFiSUc4QHD"
      }
    },
    {
      "cell_type": "code",
      "source": [
        "fig, ax = plt.subplots()\n",
        "\n",
        "ax.plot(salesNA, color = 'green', label = \"Sales in North America\")\n",
        "ax.plot(salesJAP, color = 'red', label = \"Sales in Japan\")\n",
        "ax.plot(salesEU, color = 'blue', label = \"Sales in Europe\", linestyle = \":\")\n",
        "ax.legend(loc = 'upper left')\n",
        "plt.grid(linewidth = 0.4)\n",
        "plt.show()"
      ],
      "metadata": {
        "colab": {
          "base_uri": "https://localhost:8080/",
          "height": 430
        },
        "id": "UT0bi3GV4T0r",
        "outputId": "81ea8c2b-4c22-413d-ca3b-05b68466e349"
      },
      "execution_count": 217,
      "outputs": [
        {
          "output_type": "display_data",
          "data": {
            "text/plain": [
              "<Figure size 640x480 with 1 Axes>"
            ],
            "image/png": "[encoded data removed]"
          },
          "metadata": {}
        }
      ]
    },
    {
      "cell_type": "markdown",
      "source": [
        "By far the most games were sold in North America, almost twice as much in Europe and the least in Japan"
      ],
      "metadata": {
        "id": "K4zHVUzh4cgd"
      }
    },
    {
      "cell_type": "markdown",
      "source": [
        "9. How does the rest of the world compare to the 3 main areas?"
      ],
      "metadata": {
        "id": "li0EZjIJ5MGt"
      }
    },
    {
      "cell_type": "code",
      "source": [
        "salesRest = Merged_dataframe.groupby([\"Year\"], sort = True)['Other_Sales'].sum()"
      ],
      "metadata": {
        "id": "nb2Yw7q05PRk"
      },
      "execution_count": 218,
      "outputs": []
    },
    {
      "cell_type": "code",
      "source": [
        "fig, ax = plt.subplots()\n",
        "\n",
        "ax.plot(salesNA, color = 'green', label = \"Sales in North America\")\n",
        "ax.plot(salesJAP, color = 'red', label = \"Prodaja u Japanu\")\n",
        "ax.plot(salesEU, color = 'orange', label = \"Prodaja u Europi\")\n",
        "ax.plot(salesRest, color = \"blue\", label =\"Prodaja u ostatku svijeta\", linestyle = \":\")\n",
        "ax.legend(loc = 'upper left')\n",
        "plt.grid(linewidth = 0.4)\n",
        "plt.show()"
      ],
      "metadata": {
        "colab": {
          "base_uri": "https://localhost:8080/",
          "height": 430
        },
        "id": "BI8bcDi55XeT",
        "outputId": "f158a02a-cf0a-4294-e7fa-208cce9c3e12"
      },
      "execution_count": 219,
      "outputs": [
        {
          "output_type": "display_data",
          "data": {
            "text/plain": [
              "<Figure size 640x480 with 1 Axes>"
            ],
            "image/png": "[encoded data removed]"
          },
          "metadata": {}
        }
      ]
    },
    {
      "cell_type": "markdown",
      "source": [
        "Until 1995 it was almost negligible, after 2005 it was even higher than in Japan"
      ],
      "metadata": {
        "id": "lJmYWoFa5pQ8"
      }
    }
  ]
}